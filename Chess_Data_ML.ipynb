{
 "cells": [
  {
   "cell_type": "markdown",
   "id": "72d2496f",
   "metadata": {},
   "source": [
    "# CHESS DATA - Machine Learning"
   ]
  },
  {
   "cell_type": "markdown",
   "id": "fb05514e",
   "metadata": {},
   "source": [
    "TEAM: Abraham Borg, Sarom Thin, Mehar Rekhi, Cristian Vazquez"
   ]
  },
  {
   "cell_type": "markdown",
   "id": "dd88d720",
   "metadata": {},
   "source": [
    "We will create and train a model. The model will try to predict whether or not White wins a game."
   ]
  },
  {
   "cell_type": "code",
   "execution_count": 1,
   "id": "16070020",
   "metadata": {},
   "outputs": [],
   "source": [
    "import numpy as np\n",
    "import pandas as pd\n",
    "import matplotlib.pyplot as plt\n",
    "from matplotlib import rcParams\n",
    "from sklearn.tree import DecisionTreeClassifier, export_graphviz\n",
    "from sklearn.tree import DecisionTreeRegressor, export_graphviz\n",
    "from sklearn.model_selection import train_test_split, learning_curve\n",
    "from sklearn.neighbors import KNeighborsClassifier, KNeighborsRegressor\n",
    "import seaborn as sns\n",
    "from sklearn.preprocessing import StandardScaler\n",
    "from sklearn.tree import export_text\n",
    "import graphviz \n",
    "import sys\n",
    "from scipy.stats import zscore\n",
    "from sklearn.linear_model import LinearRegression\n",
    "from sklearn.preprocessing import PolynomialFeatures\n",
    "\n",
    "\n",
    "# allow output to span multiple output lines in the console\n",
    "pd.set_option('display.max_columns', 500)\n",
    "\n",
    "# switch to seaborn default stylistic parameters\n",
    "# see the very useful https://seaborn.pydata.org/tutorial/aesthetics.html\n",
    "sns.set()\n",
    "sns.set_context('notebook')   \n",
    "# sns.set_context('paper')  # smaller\n",
    "# sns.set_context('talk')   # larger\n",
    "\n",
    "# change default plot size\n",
    "rcParams['figure.figsize'] = 10,8"
   ]
  },
  {
   "cell_type": "markdown",
   "id": "1edd7511",
   "metadata": {},
   "source": [
    "Get PKL file with chess data from this link, https://github.com/abecsumb/DataScienceProject/"
   ]
  },
  {
   "cell_type": "code",
   "execution_count": 2,
   "id": "e621dd80",
   "metadata": {},
   "outputs": [],
   "source": [
    "# read pkl file from local folder. The file contains the dataframe.\n",
    "chess_data = pd.read_pickle('https://github.com/abecsumb/DataScienceProject/blob/main/chess_data_ML.pkl?raw=true', compression = 'zip')"
   ]
  },
  {
   "cell_type": "code",
   "execution_count": 3,
   "id": "3239cba4",
   "metadata": {},
   "outputs": [],
   "source": [
    "openings_white = pd.read_pickle('https://github.com/abecsumb/DataScienceProject/blob/main/openings_white.pkl?raw=true', compression = 'zip')"
   ]
  },
  {
   "cell_type": "code",
   "execution_count": 4,
   "id": "88e72fe6",
   "metadata": {},
   "outputs": [],
   "source": [
    "openings_black = pd.read_pickle('https://github.com/abecsumb/DataScienceProject/blob/main/openings_black.pkl?raw=true', compression = 'zip')"
   ]
  },
  {
   "cell_type": "code",
   "execution_count": 5,
   "id": "53800df7",
   "metadata": {},
   "outputs": [],
   "source": [
    "# combine into one DF\n",
    "chess_data = pd.concat([chess_data, openings_white], axis = 1)\n",
    "chess_data = pd.concat([chess_data, openings_black], axis = 1)"
   ]
  },
  {
   "cell_type": "code",
   "execution_count": 6,
   "id": "47bee5db",
   "metadata": {},
   "outputs": [
    {
     "data": {
      "text/html": [
       "<div>\n",
       "<style scoped>\n",
       "    .dataframe tbody tr th:only-of-type {\n",
       "        vertical-align: middle;\n",
       "    }\n",
       "\n",
       "    .dataframe tbody tr th {\n",
       "        vertical-align: top;\n",
       "    }\n",
       "\n",
       "    .dataframe thead th {\n",
       "        text-align: right;\n",
       "    }\n",
       "</style>\n",
       "<table border=\"1\" class=\"dataframe\">\n",
       "  <thead>\n",
       "    <tr style=\"text-align: right;\">\n",
       "      <th></th>\n",
       "      <th>Date</th>\n",
       "      <th>Game Result</th>\n",
       "      <th>W-ELO</th>\n",
       "      <th>B-ELO</th>\n",
       "      <th>Num Moves</th>\n",
       "      <th>W1</th>\n",
       "      <th>B1</th>\n",
       "      <th>W2</th>\n",
       "      <th>B2</th>\n",
       "      <th>W3</th>\n",
       "      <th>B3</th>\n",
       "      <th>W4</th>\n",
       "      <th>B4</th>\n",
       "      <th>W5</th>\n",
       "      <th>B5</th>\n",
       "      <th>W6</th>\n",
       "      <th>B6</th>\n",
       "      <th>W7</th>\n",
       "      <th>B7</th>\n",
       "      <th>W8</th>\n",
       "      <th>B8</th>\n",
       "      <th>W9</th>\n",
       "      <th>B9</th>\n",
       "      <th>W10</th>\n",
       "      <th>B10</th>\n",
       "      <th>W11</th>\n",
       "      <th>B11</th>\n",
       "      <th>W12</th>\n",
       "      <th>B12</th>\n",
       "      <th>W13</th>\n",
       "      <th>B13</th>\n",
       "      <th>W14</th>\n",
       "      <th>B14</th>\n",
       "      <th>W15</th>\n",
       "      <th>B15</th>\n",
       "      <th>W16</th>\n",
       "      <th>B16</th>\n",
       "      <th>W17</th>\n",
       "      <th>B17</th>\n",
       "      <th>W18</th>\n",
       "      <th>B18</th>\n",
       "      <th>W19</th>\n",
       "      <th>B19</th>\n",
       "      <th>W20</th>\n",
       "      <th>B20</th>\n",
       "      <th>W21</th>\n",
       "      <th>B21</th>\n",
       "      <th>W22</th>\n",
       "      <th>B22</th>\n",
       "      <th>W23</th>\n",
       "      <th>B23</th>\n",
       "      <th>W24</th>\n",
       "      <th>B24</th>\n",
       "      <th>W25</th>\n",
       "      <th>B25</th>\n",
       "      <th>W26</th>\n",
       "      <th>B26</th>\n",
       "      <th>W27</th>\n",
       "      <th>B27</th>\n",
       "      <th>W28</th>\n",
       "      <th>B28</th>\n",
       "      <th>W29</th>\n",
       "      <th>B29</th>\n",
       "      <th>W30</th>\n",
       "      <th>B30</th>\n",
       "      <th>W31</th>\n",
       "      <th>B31</th>\n",
       "      <th>W32</th>\n",
       "      <th>B32</th>\n",
       "      <th>W33</th>\n",
       "      <th>B33</th>\n",
       "      <th>W34</th>\n",
       "      <th>B34</th>\n",
       "      <th>W35</th>\n",
       "      <th>B35</th>\n",
       "      <th>W36</th>\n",
       "      <th>B36</th>\n",
       "      <th>W37</th>\n",
       "      <th>B37</th>\n",
       "      <th>W38</th>\n",
       "      <th>B38</th>\n",
       "      <th>W39</th>\n",
       "      <th>B39</th>\n",
       "      <th>W40</th>\n",
       "      <th>B40</th>\n",
       "      <th>W41</th>\n",
       "      <th>B41</th>\n",
       "      <th>W42</th>\n",
       "      <th>B42</th>\n",
       "      <th>W43</th>\n",
       "      <th>B43</th>\n",
       "      <th>W44</th>\n",
       "      <th>B44</th>\n",
       "      <th>W45</th>\n",
       "      <th>B45</th>\n",
       "      <th>W46</th>\n",
       "      <th>B46</th>\n",
       "      <th>W47</th>\n",
       "      <th>B47</th>\n",
       "      <th>W48</th>\n",
       "      <th>B48</th>\n",
       "      <th>W49</th>\n",
       "      <th>B49</th>\n",
       "      <th>W50</th>\n",
       "      <th>B50</th>\n",
       "      <th>W51</th>\n",
       "      <th>B51</th>\n",
       "      <th>W52</th>\n",
       "      <th>B52</th>\n",
       "      <th>W53</th>\n",
       "      <th>B53</th>\n",
       "      <th>W54</th>\n",
       "      <th>B54</th>\n",
       "      <th>W55</th>\n",
       "      <th>B55</th>\n",
       "      <th>W56</th>\n",
       "      <th>B56</th>\n",
       "      <th>W57</th>\n",
       "      <th>B57</th>\n",
       "      <th>W58</th>\n",
       "      <th>B58</th>\n",
       "      <th>W59</th>\n",
       "      <th>B59</th>\n",
       "      <th>W60</th>\n",
       "      <th>B60</th>\n",
       "      <th>W61</th>\n",
       "      <th>B61</th>\n",
       "      <th>W62</th>\n",
       "      <th>B62</th>\n",
       "      <th>W63</th>\n",
       "      <th>B63</th>\n",
       "      <th>W64</th>\n",
       "      <th>B64</th>\n",
       "      <th>W65</th>\n",
       "      <th>B65</th>\n",
       "      <th>W66</th>\n",
       "      <th>B66</th>\n",
       "      <th>W67</th>\n",
       "      <th>B67</th>\n",
       "      <th>W68</th>\n",
       "      <th>B68</th>\n",
       "      <th>W69</th>\n",
       "      <th>B69</th>\n",
       "      <th>W70</th>\n",
       "      <th>B70</th>\n",
       "      <th>W71</th>\n",
       "      <th>B71</th>\n",
       "      <th>W72</th>\n",
       "      <th>B72</th>\n",
       "      <th>W73</th>\n",
       "      <th>B73</th>\n",
       "      <th>W74</th>\n",
       "      <th>B74</th>\n",
       "      <th>W75</th>\n",
       "      <th>B75</th>\n",
       "      <th>W1-Numeric</th>\n",
       "      <th>W2-Numeric</th>\n",
       "      <th>W3-Numeric</th>\n",
       "      <th>W4-Numeric</th>\n",
       "      <th>W5-Numeric</th>\n",
       "      <th>W6-Numeric</th>\n",
       "      <th>W7-Numeric</th>\n",
       "      <th>W8-Numeric</th>\n",
       "      <th>B1-Numeric</th>\n",
       "      <th>B2-Numeric</th>\n",
       "      <th>B3-Numeric</th>\n",
       "      <th>B4-Numeric</th>\n",
       "      <th>B5-Numeric</th>\n",
       "      <th>B6-Numeric</th>\n",
       "      <th>B7-Numeric</th>\n",
       "      <th>B8-Numeric</th>\n",
       "    </tr>\n",
       "  </thead>\n",
       "  <tbody>\n",
       "    <tr>\n",
       "      <th>Game1</th>\n",
       "      <td>2000</td>\n",
       "      <td>1</td>\n",
       "      <td>2851</td>\n",
       "      <td>2555</td>\n",
       "      <td>147</td>\n",
       "      <td>d4</td>\n",
       "      <td>d5</td>\n",
       "      <td>c4</td>\n",
       "      <td>e6</td>\n",
       "      <td>Nc3</td>\n",
       "      <td>Nf6</td>\n",
       "      <td>cxd5</td>\n",
       "      <td>exd5</td>\n",
       "      <td>Bg5</td>\n",
       "      <td>c6</td>\n",
       "      <td>Qc2</td>\n",
       "      <td>Be7</td>\n",
       "      <td>e3</td>\n",
       "      <td>Nbd7</td>\n",
       "      <td>Bd3</td>\n",
       "      <td>O-O</td>\n",
       "      <td>Nge2</td>\n",
       "      <td>Re8</td>\n",
       "      <td>O-O</td>\n",
       "      <td>Nf8</td>\n",
       "      <td>f3</td>\n",
       "      <td>Ng6</td>\n",
       "      <td>Rad1</td>\n",
       "      <td>h6</td>\n",
       "      <td>Bxf6</td>\n",
       "      <td>Bxf6</td>\n",
       "      <td>Bxg6</td>\n",
       "      <td>fxg6</td>\n",
       "      <td>e4</td>\n",
       "      <td>g5</td>\n",
       "      <td>e5</td>\n",
       "      <td>Be7</td>\n",
       "      <td>f4</td>\n",
       "      <td>gxf4</td>\n",
       "      <td>Nxf4</td>\n",
       "      <td>Rf8</td>\n",
       "      <td>Ng6</td>\n",
       "      <td>Rxf1+</td>\n",
       "      <td>Rxf1</td>\n",
       "      <td>Be6</td>\n",
       "      <td>Ne2</td>\n",
       "      <td>Qd7</td>\n",
       "      <td>h4</td>\n",
       "      <td>Re8</td>\n",
       "      <td>Ng3</td>\n",
       "      <td>Bf7</td>\n",
       "      <td>Nxe7+</td>\n",
       "      <td>Rxe7</td>\n",
       "      <td>Nf5</td>\n",
       "      <td>Re6</td>\n",
       "      <td>Nd6</td>\n",
       "      <td>Bg6</td>\n",
       "      <td>Qc3</td>\n",
       "      <td>Rxd6</td>\n",
       "      <td>exd6</td>\n",
       "      <td>Qxd6</td>\n",
       "      <td>Qa3</td>\n",
       "      <td>Qb8</td>\n",
       "      <td>Qe7</td>\n",
       "      <td>Qg3</td>\n",
       "      <td>Rf3</td>\n",
       "      <td>Qg4</td>\n",
       "      <td>Qf8+</td>\n",
       "      <td>Kh7</td>\n",
       "      <td>Qf4</td>\n",
       "      <td>Qd7</td>\n",
       "      <td>Rg3</td>\n",
       "      <td>Be4</td>\n",
       "      <td>Qe5</td>\n",
       "      <td>Qf7</td>\n",
       "      <td>h5</td>\n",
       "      <td>Qd7</td>\n",
       "      <td>b4</td>\n",
       "      <td>a6</td>\n",
       "      <td>a4</td>\n",
       "      <td>Kg8</td>\n",
       "      <td>a5</td>\n",
       "      <td>Kh7</td>\n",
       "      <td>Kf2</td>\n",
       "      <td>Kg8</td>\n",
       "      <td>Qb8+</td>\n",
       "      <td>Kh7</td>\n",
       "      <td>Qf8</td>\n",
       "      <td>Bc2</td>\n",
       "      <td>Qf4</td>\n",
       "      <td>Be4</td>\n",
       "      <td>Qe5</td>\n",
       "      <td>Kg8</td>\n",
       "      <td>Ke3</td>\n",
       "      <td>Kh7</td>\n",
       "      <td>Ke2</td>\n",
       "      <td>Kg8</td>\n",
       "      <td>Qb8+</td>\n",
       "      <td>Kh7</td>\n",
       "      <td>Qf8</td>\n",
       "      <td>Bc2</td>\n",
       "      <td>Kd2</td>\n",
       "      <td>Be4</td>\n",
       "      <td>Kc1</td>\n",
       "      <td>Qc7</td>\n",
       "      <td>Rg4</td>\n",
       "      <td>Qd7</td>\n",
       "      <td>Rf4</td>\n",
       "      <td>Bxg2</td>\n",
       "      <td>Qf5+</td>\n",
       "      <td>Qxf5</td>\n",
       "      <td>Rxf5</td>\n",
       "      <td>Kg8</td>\n",
       "      <td>d2</td>\n",
       "      <td>h3</td>\n",
       "      <td>f4</td>\n",
       "      <td>e6</td>\n",
       "      <td>e3</td>\n",
       "      <td>f7</td>\n",
       "      <td>f5</td>\n",
       "      <td>f8</td>\n",
       "      <td>e5</td>\n",
       "      <td>e8</td>\n",
       "      <td>f4</td>\n",
       "      <td>f7</td>\n",
       "      <td>g4</td>\n",
       "      <td>e8</td>\n",
       "      <td>g3</td>\n",
       "      <td>f7</td>\n",
       "      <td>f4</td>\n",
       "      <td>e8</td>\n",
       "      <td>f5</td>\n",
       "      <td>xh5</td>\n",
       "      <td>e6</td>\n",
       "      <td>g6</td>\n",
       "      <td>e3</td>\n",
       "      <td>c2</td>\n",
       "      <td>f3+</td>\n",
       "      <td>g8</td>\n",
       "      <td>5</td>\n",
       "      <td>xb5</td>\n",
       "      <td>xd5</td>\n",
       "      <td>4</td>\n",
       "      <td>c4</td>\n",
       "      <td>3</td>\n",
       "      <td>c3</td>\n",
       "      <td>5</td>\n",
       "      <td>5</td>\n",
       "      <td>4</td>\n",
       "      <td>f4</td>\n",
       "      <td>5</td>\n",
       "      <td>6</td>\n",
       "      <td>&lt;NA&gt;</td>\n",
       "      <td>&lt;NA&gt;</td>\n",
       "      <td>&lt;NA&gt;</td>\n",
       "      <td>16</td>\n",
       "      <td>35</td>\n",
       "      <td>36</td>\n",
       "      <td>157</td>\n",
       "      <td>30</td>\n",
       "      <td>225</td>\n",
       "      <td>440</td>\n",
       "      <td>28</td>\n",
       "      <td>16</td>\n",
       "      <td>64</td>\n",
       "      <td>55</td>\n",
       "      <td>214</td>\n",
       "      <td>280</td>\n",
       "      <td>30</td>\n",
       "      <td>159</td>\n",
       "      <td>327</td>\n",
       "    </tr>\n",
       "    <tr>\n",
       "      <th>Game2</th>\n",
       "      <td>2000</td>\n",
       "      <td>1</td>\n",
       "      <td>2851</td>\n",
       "      <td>2544</td>\n",
       "      <td>45</td>\n",
       "      <td>e4</td>\n",
       "      <td>c5</td>\n",
       "      <td>Nf3</td>\n",
       "      <td>Nc6</td>\n",
       "      <td>Bb5</td>\n",
       "      <td>d6</td>\n",
       "      <td>c3</td>\n",
       "      <td>Nf6</td>\n",
       "      <td>Qe2</td>\n",
       "      <td>e5</td>\n",
       "      <td>d4</td>\n",
       "      <td>exd4</td>\n",
       "      <td>cxd4</td>\n",
       "      <td>a6</td>\n",
       "      <td>e5</td>\n",
       "      <td>Nd5</td>\n",
       "      <td>exd6+</td>\n",
       "      <td>Be6</td>\n",
       "      <td>Bxc6+</td>\n",
       "      <td>bxc6</td>\n",
       "      <td>dxc5</td>\n",
       "      <td>Qa5+</td>\n",
       "      <td>Bd2</td>\n",
       "      <td>Qxc5</td>\n",
       "      <td>O-O</td>\n",
       "      <td>Kd7</td>\n",
       "      <td>Na3</td>\n",
       "      <td>Bxd6</td>\n",
       "      <td>Rab1</td>\n",
       "      <td>Bf5</td>\n",
       "      <td>Rbc1</td>\n",
       "      <td>Rhe8</td>\n",
       "      <td>Qd1</td>\n",
       "      <td>Qa7</td>\n",
       "      <td>Nc4</td>\n",
       "      <td>Bc7</td>\n",
       "      <td>Bc3</td>\n",
       "      <td>f6</td>\n",
       "      <td>Nd4</td>\n",
       "      <td>Be6</td>\n",
       "      <td>Nxc6</td>\n",
       "      <td>Kxc6</td>\n",
       "      <td>Bd4</td>\n",
       "      <td>Qb8</td>\n",
       "      <td>Qa4+</td>\n",
       "      <td>&lt;NA&gt;</td>\n",
       "      <td>&lt;NA&gt;</td>\n",
       "      <td>&lt;NA&gt;</td>\n",
       "      <td>&lt;NA&gt;</td>\n",
       "      <td>&lt;NA&gt;</td>\n",
       "      <td>&lt;NA&gt;</td>\n",
       "      <td>&lt;NA&gt;</td>\n",
       "      <td>&lt;NA&gt;</td>\n",
       "      <td>&lt;NA&gt;</td>\n",
       "      <td>&lt;NA&gt;</td>\n",
       "      <td>&lt;NA&gt;</td>\n",
       "      <td>&lt;NA&gt;</td>\n",
       "      <td>&lt;NA&gt;</td>\n",
       "      <td>&lt;NA&gt;</td>\n",
       "      <td>&lt;NA&gt;</td>\n",
       "      <td>&lt;NA&gt;</td>\n",
       "      <td>&lt;NA&gt;</td>\n",
       "      <td>&lt;NA&gt;</td>\n",
       "      <td>&lt;NA&gt;</td>\n",
       "      <td>&lt;NA&gt;</td>\n",
       "      <td>&lt;NA&gt;</td>\n",
       "      <td>&lt;NA&gt;</td>\n",
       "      <td>&lt;NA&gt;</td>\n",
       "      <td>&lt;NA&gt;</td>\n",
       "      <td>&lt;NA&gt;</td>\n",
       "      <td>&lt;NA&gt;</td>\n",
       "      <td>&lt;NA&gt;</td>\n",
       "      <td>&lt;NA&gt;</td>\n",
       "      <td>&lt;NA&gt;</td>\n",
       "      <td>&lt;NA&gt;</td>\n",
       "      <td>&lt;NA&gt;</td>\n",
       "      <td>&lt;NA&gt;</td>\n",
       "      <td>&lt;NA&gt;</td>\n",
       "      <td>&lt;NA&gt;</td>\n",
       "      <td>&lt;NA&gt;</td>\n",
       "      <td>&lt;NA&gt;</td>\n",
       "      <td>&lt;NA&gt;</td>\n",
       "      <td>&lt;NA&gt;</td>\n",
       "      <td>&lt;NA&gt;</td>\n",
       "      <td>&lt;NA&gt;</td>\n",
       "      <td>&lt;NA&gt;</td>\n",
       "      <td>&lt;NA&gt;</td>\n",
       "      <td>&lt;NA&gt;</td>\n",
       "      <td>&lt;NA&gt;</td>\n",
       "      <td>&lt;NA&gt;</td>\n",
       "      <td>&lt;NA&gt;</td>\n",
       "      <td>&lt;NA&gt;</td>\n",
       "      <td>&lt;NA&gt;</td>\n",
       "      <td>&lt;NA&gt;</td>\n",
       "      <td>&lt;NA&gt;</td>\n",
       "      <td>&lt;NA&gt;</td>\n",
       "      <td>&lt;NA&gt;</td>\n",
       "      <td>&lt;NA&gt;</td>\n",
       "      <td>&lt;NA&gt;</td>\n",
       "      <td>&lt;NA&gt;</td>\n",
       "      <td>&lt;NA&gt;</td>\n",
       "      <td>&lt;NA&gt;</td>\n",
       "      <td>&lt;NA&gt;</td>\n",
       "      <td>&lt;NA&gt;</td>\n",
       "      <td>&lt;NA&gt;</td>\n",
       "      <td>&lt;NA&gt;</td>\n",
       "      <td>&lt;NA&gt;</td>\n",
       "      <td>&lt;NA&gt;</td>\n",
       "      <td>&lt;NA&gt;</td>\n",
       "      <td>&lt;NA&gt;</td>\n",
       "      <td>&lt;NA&gt;</td>\n",
       "      <td>&lt;NA&gt;</td>\n",
       "      <td>&lt;NA&gt;</td>\n",
       "      <td>&lt;NA&gt;</td>\n",
       "      <td>&lt;NA&gt;</td>\n",
       "      <td>&lt;NA&gt;</td>\n",
       "      <td>&lt;NA&gt;</td>\n",
       "      <td>&lt;NA&gt;</td>\n",
       "      <td>&lt;NA&gt;</td>\n",
       "      <td>&lt;NA&gt;</td>\n",
       "      <td>&lt;NA&gt;</td>\n",
       "      <td>&lt;NA&gt;</td>\n",
       "      <td>&lt;NA&gt;</td>\n",
       "      <td>&lt;NA&gt;</td>\n",
       "      <td>&lt;NA&gt;</td>\n",
       "      <td>&lt;NA&gt;</td>\n",
       "      <td>&lt;NA&gt;</td>\n",
       "      <td>&lt;NA&gt;</td>\n",
       "      <td>&lt;NA&gt;</td>\n",
       "      <td>&lt;NA&gt;</td>\n",
       "      <td>&lt;NA&gt;</td>\n",
       "      <td>&lt;NA&gt;</td>\n",
       "      <td>&lt;NA&gt;</td>\n",
       "      <td>&lt;NA&gt;</td>\n",
       "      <td>&lt;NA&gt;</td>\n",
       "      <td>&lt;NA&gt;</td>\n",
       "      <td>&lt;NA&gt;</td>\n",
       "      <td>&lt;NA&gt;</td>\n",
       "      <td>&lt;NA&gt;</td>\n",
       "      <td>&lt;NA&gt;</td>\n",
       "      <td>&lt;NA&gt;</td>\n",
       "      <td>&lt;NA&gt;</td>\n",
       "      <td>&lt;NA&gt;</td>\n",
       "      <td>&lt;NA&gt;</td>\n",
       "      <td>&lt;NA&gt;</td>\n",
       "      <td>&lt;NA&gt;</td>\n",
       "      <td>&lt;NA&gt;</td>\n",
       "      <td>&lt;NA&gt;</td>\n",
       "      <td>&lt;NA&gt;</td>\n",
       "      <td>&lt;NA&gt;</td>\n",
       "      <td>18</td>\n",
       "      <td>18</td>\n",
       "      <td>8</td>\n",
       "      <td>151</td>\n",
       "      <td>168</td>\n",
       "      <td>350</td>\n",
       "      <td>422</td>\n",
       "      <td>557</td>\n",
       "      <td>14</td>\n",
       "      <td>23</td>\n",
       "      <td>122</td>\n",
       "      <td>91</td>\n",
       "      <td>306</td>\n",
       "      <td>406</td>\n",
       "      <td>427</td>\n",
       "      <td>205</td>\n",
       "    </tr>\n",
       "    <tr>\n",
       "      <th>Game3</th>\n",
       "      <td>2000</td>\n",
       "      <td>1</td>\n",
       "      <td>2851</td>\n",
       "      <td>2748</td>\n",
       "      <td>90</td>\n",
       "      <td>d4</td>\n",
       "      <td>d5</td>\n",
       "      <td>c4</td>\n",
       "      <td>c6</td>\n",
       "      <td>Nc3</td>\n",
       "      <td>Nf6</td>\n",
       "      <td>Nf3</td>\n",
       "      <td>dxc4</td>\n",
       "      <td>a4</td>\n",
       "      <td>Bf5</td>\n",
       "      <td>Ne5</td>\n",
       "      <td>Nbd7</td>\n",
       "      <td>Nxc4</td>\n",
       "      <td>Qc7</td>\n",
       "      <td>g3</td>\n",
       "      <td>e5</td>\n",
       "      <td>dxe5</td>\n",
       "      <td>Nxe5</td>\n",
       "      <td>Bf4</td>\n",
       "      <td>Nfd7</td>\n",
       "      <td>Bg2</td>\n",
       "      <td>g5</td>\n",
       "      <td>Ne3</td>\n",
       "      <td>gxf4</td>\n",
       "      <td>Nxf5</td>\n",
       "      <td>O-O-O</td>\n",
       "      <td>Qc2</td>\n",
       "      <td>Ng4</td>\n",
       "      <td>a5</td>\n",
       "      <td>fxg3</td>\n",
       "      <td>hxg3</td>\n",
       "      <td>a6</td>\n",
       "      <td>Ra4</td>\n",
       "      <td>Ndf6</td>\n",
       "      <td>Ne4</td>\n",
       "      <td>Nxe4</td>\n",
       "      <td>Bxe4</td>\n",
       "      <td>h5</td>\n",
       "      <td>Kf1</td>\n",
       "      <td>Kb8</td>\n",
       "      <td>Kg2</td>\n",
       "      <td>Be7</td>\n",
       "      <td>Nxe7</td>\n",
       "      <td>Qxe7</td>\n",
       "      <td>Bf3</td>\n",
       "      <td>Ne5</td>\n",
       "      <td>Bxh5</td>\n",
       "      <td>Qe6</td>\n",
       "      <td>Qc3</td>\n",
       "      <td>f6</td>\n",
       "      <td>Rah4</td>\n",
       "      <td>Qf5</td>\n",
       "      <td>Bf3</td>\n",
       "      <td>Rxh4</td>\n",
       "      <td>Rxh4</td>\n",
       "      <td>Qb1</td>\n",
       "      <td>Rh1</td>\n",
       "      <td>Rd1</td>\n",
       "      <td>Rxd1</td>\n",
       "      <td>Qxd1</td>\n",
       "      <td>b4</td>\n",
       "      <td>Kc7</td>\n",
       "      <td>Qc5</td>\n",
       "      <td>Qd6</td>\n",
       "      <td>Qxd6+</td>\n",
       "      <td>Kxd6</td>\n",
       "      <td>Be4</td>\n",
       "      <td>Nc4</td>\n",
       "      <td>Bd3</td>\n",
       "      <td>Nb2</td>\n",
       "      <td>f4</td>\n",
       "      <td>Nd1</td>\n",
       "      <td>g4</td>\n",
       "      <td>Ne3+</td>\n",
       "      <td>Kf3</td>\n",
       "      <td>Nd5</td>\n",
       "      <td>Ke4</td>\n",
       "      <td>Nxb4</td>\n",
       "      <td>Bc4</td>\n",
       "      <td>c5</td>\n",
       "      <td>g5</td>\n",
       "      <td>fxg5</td>\n",
       "      <td>fxg5</td>\n",
       "      <td>Ke7</td>\n",
       "      <td>Kf5</td>\n",
       "      <td>Nc2</td>\n",
       "      <td>Ke5</td>\n",
       "      <td>Ne3</td>\n",
       "      <td>Be6</td>\n",
       "      <td>c4</td>\n",
       "      <td>&lt;NA&gt;</td>\n",
       "      <td>&lt;NA&gt;</td>\n",
       "      <td>&lt;NA&gt;</td>\n",
       "      <td>&lt;NA&gt;</td>\n",
       "      <td>&lt;NA&gt;</td>\n",
       "      <td>&lt;NA&gt;</td>\n",
       "      <td>&lt;NA&gt;</td>\n",
       "      <td>&lt;NA&gt;</td>\n",
       "      <td>&lt;NA&gt;</td>\n",
       "      <td>&lt;NA&gt;</td>\n",
       "      <td>&lt;NA&gt;</td>\n",
       "      <td>&lt;NA&gt;</td>\n",
       "      <td>&lt;NA&gt;</td>\n",
       "      <td>&lt;NA&gt;</td>\n",
       "      <td>&lt;NA&gt;</td>\n",
       "      <td>&lt;NA&gt;</td>\n",
       "      <td>&lt;NA&gt;</td>\n",
       "      <td>&lt;NA&gt;</td>\n",
       "      <td>&lt;NA&gt;</td>\n",
       "      <td>&lt;NA&gt;</td>\n",
       "      <td>&lt;NA&gt;</td>\n",
       "      <td>&lt;NA&gt;</td>\n",
       "      <td>&lt;NA&gt;</td>\n",
       "      <td>&lt;NA&gt;</td>\n",
       "      <td>&lt;NA&gt;</td>\n",
       "      <td>&lt;NA&gt;</td>\n",
       "      <td>&lt;NA&gt;</td>\n",
       "      <td>&lt;NA&gt;</td>\n",
       "      <td>&lt;NA&gt;</td>\n",
       "      <td>&lt;NA&gt;</td>\n",
       "      <td>&lt;NA&gt;</td>\n",
       "      <td>&lt;NA&gt;</td>\n",
       "      <td>&lt;NA&gt;</td>\n",
       "      <td>&lt;NA&gt;</td>\n",
       "      <td>&lt;NA&gt;</td>\n",
       "      <td>&lt;NA&gt;</td>\n",
       "      <td>&lt;NA&gt;</td>\n",
       "      <td>&lt;NA&gt;</td>\n",
       "      <td>&lt;NA&gt;</td>\n",
       "      <td>&lt;NA&gt;</td>\n",
       "      <td>&lt;NA&gt;</td>\n",
       "      <td>&lt;NA&gt;</td>\n",
       "      <td>&lt;NA&gt;</td>\n",
       "      <td>&lt;NA&gt;</td>\n",
       "      <td>&lt;NA&gt;</td>\n",
       "      <td>&lt;NA&gt;</td>\n",
       "      <td>&lt;NA&gt;</td>\n",
       "      <td>&lt;NA&gt;</td>\n",
       "      <td>&lt;NA&gt;</td>\n",
       "      <td>&lt;NA&gt;</td>\n",
       "      <td>&lt;NA&gt;</td>\n",
       "      <td>&lt;NA&gt;</td>\n",
       "      <td>&lt;NA&gt;</td>\n",
       "      <td>&lt;NA&gt;</td>\n",
       "      <td>&lt;NA&gt;</td>\n",
       "      <td>&lt;NA&gt;</td>\n",
       "      <td>&lt;NA&gt;</td>\n",
       "      <td>&lt;NA&gt;</td>\n",
       "      <td>&lt;NA&gt;</td>\n",
       "      <td>&lt;NA&gt;</td>\n",
       "      <td>16</td>\n",
       "      <td>35</td>\n",
       "      <td>36</td>\n",
       "      <td>72</td>\n",
       "      <td>215</td>\n",
       "      <td>145</td>\n",
       "      <td>226</td>\n",
       "      <td>585</td>\n",
       "      <td>16</td>\n",
       "      <td>54</td>\n",
       "      <td>55</td>\n",
       "      <td>200</td>\n",
       "      <td>25</td>\n",
       "      <td>132</td>\n",
       "      <td>304</td>\n",
       "      <td>562</td>\n",
       "    </tr>\n",
       "    <tr>\n",
       "      <th>Game4</th>\n",
       "      <td>2000</td>\n",
       "      <td>1</td>\n",
       "      <td>2851</td>\n",
       "      <td>2637</td>\n",
       "      <td>51</td>\n",
       "      <td>e4</td>\n",
       "      <td>e5</td>\n",
       "      <td>Nf3</td>\n",
       "      <td>Nf6</td>\n",
       "      <td>Nxe5</td>\n",
       "      <td>d6</td>\n",
       "      <td>Nf3</td>\n",
       "      <td>Nxe4</td>\n",
       "      <td>d4</td>\n",
       "      <td>d5</td>\n",
       "      <td>Bd3</td>\n",
       "      <td>Be7</td>\n",
       "      <td>O-O</td>\n",
       "      <td>Nc6</td>\n",
       "      <td>c4</td>\n",
       "      <td>Nb4</td>\n",
       "      <td>Be2</td>\n",
       "      <td>O-O</td>\n",
       "      <td>Nc3</td>\n",
       "      <td>Bf5</td>\n",
       "      <td>a3</td>\n",
       "      <td>Nxc3</td>\n",
       "      <td>bxc3</td>\n",
       "      <td>Nc6</td>\n",
       "      <td>Re1</td>\n",
       "      <td>Bf6</td>\n",
       "      <td>Bf4</td>\n",
       "      <td>Ne7</td>\n",
       "      <td>Qb3</td>\n",
       "      <td>b6</td>\n",
       "      <td>cxd5</td>\n",
       "      <td>Nxd5</td>\n",
       "      <td>Be5</td>\n",
       "      <td>Bg4</td>\n",
       "      <td>Rad1</td>\n",
       "      <td>Be7</td>\n",
       "      <td>h3</td>\n",
       "      <td>Bh5</td>\n",
       "      <td>g4</td>\n",
       "      <td>Bg6</td>\n",
       "      <td>Bg3</td>\n",
       "      <td>Nf6</td>\n",
       "      <td>Ne5</td>\n",
       "      <td>Ne4</td>\n",
       "      <td>Bf3</td>\n",
       "      <td>Nxg3</td>\n",
       "      <td>Nc6</td>\n",
       "      <td>Qd6</td>\n",
       "      <td>Nxe7+</td>\n",
       "      <td>Kh8</td>\n",
       "      <td>Bxa8</td>\n",
       "      <td>&lt;NA&gt;</td>\n",
       "      <td>&lt;NA&gt;</td>\n",
       "      <td>&lt;NA&gt;</td>\n",
       "      <td>&lt;NA&gt;</td>\n",
       "      <td>&lt;NA&gt;</td>\n",
       "      <td>&lt;NA&gt;</td>\n",
       "      <td>&lt;NA&gt;</td>\n",
       "      <td>&lt;NA&gt;</td>\n",
       "      <td>&lt;NA&gt;</td>\n",
       "      <td>&lt;NA&gt;</td>\n",
       "      <td>&lt;NA&gt;</td>\n",
       "      <td>&lt;NA&gt;</td>\n",
       "      <td>&lt;NA&gt;</td>\n",
       "      <td>&lt;NA&gt;</td>\n",
       "      <td>&lt;NA&gt;</td>\n",
       "      <td>&lt;NA&gt;</td>\n",
       "      <td>&lt;NA&gt;</td>\n",
       "      <td>&lt;NA&gt;</td>\n",
       "      <td>&lt;NA&gt;</td>\n",
       "      <td>&lt;NA&gt;</td>\n",
       "      <td>&lt;NA&gt;</td>\n",
       "      <td>&lt;NA&gt;</td>\n",
       "      <td>&lt;NA&gt;</td>\n",
       "      <td>&lt;NA&gt;</td>\n",
       "      <td>&lt;NA&gt;</td>\n",
       "      <td>&lt;NA&gt;</td>\n",
       "      <td>&lt;NA&gt;</td>\n",
       "      <td>&lt;NA&gt;</td>\n",
       "      <td>&lt;NA&gt;</td>\n",
       "      <td>&lt;NA&gt;</td>\n",
       "      <td>&lt;NA&gt;</td>\n",
       "      <td>&lt;NA&gt;</td>\n",
       "      <td>&lt;NA&gt;</td>\n",
       "      <td>&lt;NA&gt;</td>\n",
       "      <td>&lt;NA&gt;</td>\n",
       "      <td>&lt;NA&gt;</td>\n",
       "      <td>&lt;NA&gt;</td>\n",
       "      <td>&lt;NA&gt;</td>\n",
       "      <td>&lt;NA&gt;</td>\n",
       "      <td>&lt;NA&gt;</td>\n",
       "      <td>&lt;NA&gt;</td>\n",
       "      <td>&lt;NA&gt;</td>\n",
       "      <td>&lt;NA&gt;</td>\n",
       "      <td>&lt;NA&gt;</td>\n",
       "      <td>&lt;NA&gt;</td>\n",
       "      <td>&lt;NA&gt;</td>\n",
       "      <td>&lt;NA&gt;</td>\n",
       "      <td>&lt;NA&gt;</td>\n",
       "      <td>&lt;NA&gt;</td>\n",
       "      <td>&lt;NA&gt;</td>\n",
       "      <td>&lt;NA&gt;</td>\n",
       "      <td>&lt;NA&gt;</td>\n",
       "      <td>&lt;NA&gt;</td>\n",
       "      <td>&lt;NA&gt;</td>\n",
       "      <td>&lt;NA&gt;</td>\n",
       "      <td>&lt;NA&gt;</td>\n",
       "      <td>&lt;NA&gt;</td>\n",
       "      <td>&lt;NA&gt;</td>\n",
       "      <td>&lt;NA&gt;</td>\n",
       "      <td>&lt;NA&gt;</td>\n",
       "      <td>&lt;NA&gt;</td>\n",
       "      <td>&lt;NA&gt;</td>\n",
       "      <td>&lt;NA&gt;</td>\n",
       "      <td>&lt;NA&gt;</td>\n",
       "      <td>&lt;NA&gt;</td>\n",
       "      <td>&lt;NA&gt;</td>\n",
       "      <td>&lt;NA&gt;</td>\n",
       "      <td>&lt;NA&gt;</td>\n",
       "      <td>&lt;NA&gt;</td>\n",
       "      <td>&lt;NA&gt;</td>\n",
       "      <td>&lt;NA&gt;</td>\n",
       "      <td>&lt;NA&gt;</td>\n",
       "      <td>&lt;NA&gt;</td>\n",
       "      <td>&lt;NA&gt;</td>\n",
       "      <td>&lt;NA&gt;</td>\n",
       "      <td>&lt;NA&gt;</td>\n",
       "      <td>&lt;NA&gt;</td>\n",
       "      <td>&lt;NA&gt;</td>\n",
       "      <td>&lt;NA&gt;</td>\n",
       "      <td>&lt;NA&gt;</td>\n",
       "      <td>&lt;NA&gt;</td>\n",
       "      <td>&lt;NA&gt;</td>\n",
       "      <td>&lt;NA&gt;</td>\n",
       "      <td>&lt;NA&gt;</td>\n",
       "      <td>&lt;NA&gt;</td>\n",
       "      <td>&lt;NA&gt;</td>\n",
       "      <td>&lt;NA&gt;</td>\n",
       "      <td>&lt;NA&gt;</td>\n",
       "      <td>&lt;NA&gt;</td>\n",
       "      <td>&lt;NA&gt;</td>\n",
       "      <td>&lt;NA&gt;</td>\n",
       "      <td>&lt;NA&gt;</td>\n",
       "      <td>&lt;NA&gt;</td>\n",
       "      <td>&lt;NA&gt;</td>\n",
       "      <td>&lt;NA&gt;</td>\n",
       "      <td>&lt;NA&gt;</td>\n",
       "      <td>&lt;NA&gt;</td>\n",
       "      <td>&lt;NA&gt;</td>\n",
       "      <td>&lt;NA&gt;</td>\n",
       "      <td>18</td>\n",
       "      <td>18</td>\n",
       "      <td>57</td>\n",
       "      <td>72</td>\n",
       "      <td>241</td>\n",
       "      <td>18</td>\n",
       "      <td>264</td>\n",
       "      <td>526</td>\n",
       "      <td>18</td>\n",
       "      <td>30</td>\n",
       "      <td>122</td>\n",
       "      <td>112</td>\n",
       "      <td>293</td>\n",
       "      <td>30</td>\n",
       "      <td>168</td>\n",
       "      <td>169</td>\n",
       "    </tr>\n",
       "    <tr>\n",
       "      <th>Game5</th>\n",
       "      <td>2000</td>\n",
       "      <td>1</td>\n",
       "      <td>2851</td>\n",
       "      <td>2751</td>\n",
       "      <td>69</td>\n",
       "      <td>e4</td>\n",
       "      <td>e6</td>\n",
       "      <td>d4</td>\n",
       "      <td>d5</td>\n",
       "      <td>Nc3</td>\n",
       "      <td>Nf6</td>\n",
       "      <td>Bg5</td>\n",
       "      <td>dxe4</td>\n",
       "      <td>Nxe4</td>\n",
       "      <td>Nbd7</td>\n",
       "      <td>Nf3</td>\n",
       "      <td>Be7</td>\n",
       "      <td>Nxf6+</td>\n",
       "      <td>Bxf6</td>\n",
       "      <td>h4</td>\n",
       "      <td>O-O</td>\n",
       "      <td>Bd3</td>\n",
       "      <td>c5</td>\n",
       "      <td>Qe2</td>\n",
       "      <td>cxd4</td>\n",
       "      <td>Qe4</td>\n",
       "      <td>g6</td>\n",
       "      <td>O-O-O</td>\n",
       "      <td>Qa5</td>\n",
       "      <td>Bxf6</td>\n",
       "      <td>Nxf6</td>\n",
       "      <td>Qxd4</td>\n",
       "      <td>Nh5</td>\n",
       "      <td>a3</td>\n",
       "      <td>Rd8</td>\n",
       "      <td>Qe3</td>\n",
       "      <td>Bd7</td>\n",
       "      <td>g4</td>\n",
       "      <td>Nf6</td>\n",
       "      <td>Qf4</td>\n",
       "      <td>Nd5</td>\n",
       "      <td>Qh6</td>\n",
       "      <td>Nf6</td>\n",
       "      <td>Ng5</td>\n",
       "      <td>Bc6</td>\n",
       "      <td>Bxg6</td>\n",
       "      <td>hxg6</td>\n",
       "      <td>Nxe6</td>\n",
       "      <td>fxe6</td>\n",
       "      <td>Qxg6+</td>\n",
       "      <td>Kh8</td>\n",
       "      <td>Qxf6+</td>\n",
       "      <td>Kh7</td>\n",
       "      <td>Rhe1</td>\n",
       "      <td>Rxd1+</td>\n",
       "      <td>Rxd1</td>\n",
       "      <td>Qc5</td>\n",
       "      <td>g5</td>\n",
       "      <td>Rf8</td>\n",
       "      <td>Qh6+</td>\n",
       "      <td>Kg8</td>\n",
       "      <td>Qxe6+</td>\n",
       "      <td>Kg7</td>\n",
       "      <td>Qh6+</td>\n",
       "      <td>Kg8</td>\n",
       "      <td>Qg6+</td>\n",
       "      <td>Kh8</td>\n",
       "      <td>Qh6+</td>\n",
       "      <td>Kg8</td>\n",
       "      <td>Qe6+</td>\n",
       "      <td>Kg7</td>\n",
       "      <td>Rd6</td>\n",
       "      <td>Be8</td>\n",
       "      <td>Qe7+</td>\n",
       "      <td>&lt;NA&gt;</td>\n",
       "      <td>&lt;NA&gt;</td>\n",
       "      <td>&lt;NA&gt;</td>\n",
       "      <td>&lt;NA&gt;</td>\n",
       "      <td>&lt;NA&gt;</td>\n",
       "      <td>&lt;NA&gt;</td>\n",
       "      <td>&lt;NA&gt;</td>\n",
       "      <td>&lt;NA&gt;</td>\n",
       "      <td>&lt;NA&gt;</td>\n",
       "      <td>&lt;NA&gt;</td>\n",
       "      <td>&lt;NA&gt;</td>\n",
       "      <td>&lt;NA&gt;</td>\n",
       "      <td>&lt;NA&gt;</td>\n",
       "      <td>&lt;NA&gt;</td>\n",
       "      <td>&lt;NA&gt;</td>\n",
       "      <td>&lt;NA&gt;</td>\n",
       "      <td>&lt;NA&gt;</td>\n",
       "      <td>&lt;NA&gt;</td>\n",
       "      <td>&lt;NA&gt;</td>\n",
       "      <td>&lt;NA&gt;</td>\n",
       "      <td>&lt;NA&gt;</td>\n",
       "      <td>&lt;NA&gt;</td>\n",
       "      <td>&lt;NA&gt;</td>\n",
       "      <td>&lt;NA&gt;</td>\n",
       "      <td>&lt;NA&gt;</td>\n",
       "      <td>&lt;NA&gt;</td>\n",
       "      <td>&lt;NA&gt;</td>\n",
       "      <td>&lt;NA&gt;</td>\n",
       "      <td>&lt;NA&gt;</td>\n",
       "      <td>&lt;NA&gt;</td>\n",
       "      <td>&lt;NA&gt;</td>\n",
       "      <td>&lt;NA&gt;</td>\n",
       "      <td>&lt;NA&gt;</td>\n",
       "      <td>&lt;NA&gt;</td>\n",
       "      <td>&lt;NA&gt;</td>\n",
       "      <td>&lt;NA&gt;</td>\n",
       "      <td>&lt;NA&gt;</td>\n",
       "      <td>&lt;NA&gt;</td>\n",
       "      <td>&lt;NA&gt;</td>\n",
       "      <td>&lt;NA&gt;</td>\n",
       "      <td>&lt;NA&gt;</td>\n",
       "      <td>&lt;NA&gt;</td>\n",
       "      <td>&lt;NA&gt;</td>\n",
       "      <td>&lt;NA&gt;</td>\n",
       "      <td>&lt;NA&gt;</td>\n",
       "      <td>&lt;NA&gt;</td>\n",
       "      <td>&lt;NA&gt;</td>\n",
       "      <td>&lt;NA&gt;</td>\n",
       "      <td>&lt;NA&gt;</td>\n",
       "      <td>&lt;NA&gt;</td>\n",
       "      <td>&lt;NA&gt;</td>\n",
       "      <td>&lt;NA&gt;</td>\n",
       "      <td>&lt;NA&gt;</td>\n",
       "      <td>&lt;NA&gt;</td>\n",
       "      <td>&lt;NA&gt;</td>\n",
       "      <td>&lt;NA&gt;</td>\n",
       "      <td>&lt;NA&gt;</td>\n",
       "      <td>&lt;NA&gt;</td>\n",
       "      <td>&lt;NA&gt;</td>\n",
       "      <td>&lt;NA&gt;</td>\n",
       "      <td>&lt;NA&gt;</td>\n",
       "      <td>&lt;NA&gt;</td>\n",
       "      <td>&lt;NA&gt;</td>\n",
       "      <td>&lt;NA&gt;</td>\n",
       "      <td>&lt;NA&gt;</td>\n",
       "      <td>&lt;NA&gt;</td>\n",
       "      <td>&lt;NA&gt;</td>\n",
       "      <td>&lt;NA&gt;</td>\n",
       "      <td>&lt;NA&gt;</td>\n",
       "      <td>&lt;NA&gt;</td>\n",
       "      <td>&lt;NA&gt;</td>\n",
       "      <td>&lt;NA&gt;</td>\n",
       "      <td>&lt;NA&gt;</td>\n",
       "      <td>&lt;NA&gt;</td>\n",
       "      <td>&lt;NA&gt;</td>\n",
       "      <td>&lt;NA&gt;</td>\n",
       "      <td>&lt;NA&gt;</td>\n",
       "      <td>&lt;NA&gt;</td>\n",
       "      <td>&lt;NA&gt;</td>\n",
       "      <td>&lt;NA&gt;</td>\n",
       "      <td>&lt;NA&gt;</td>\n",
       "      <td>18</td>\n",
       "      <td>39</td>\n",
       "      <td>36</td>\n",
       "      <td>23</td>\n",
       "      <td>139</td>\n",
       "      <td>155</td>\n",
       "      <td>252</td>\n",
       "      <td>602</td>\n",
       "      <td>19</td>\n",
       "      <td>58</td>\n",
       "      <td>55</td>\n",
       "      <td>204</td>\n",
       "      <td>103</td>\n",
       "      <td>30</td>\n",
       "      <td>97</td>\n",
       "      <td>327</td>\n",
       "    </tr>\n",
       "  </tbody>\n",
       "</table>\n",
       "</div>"
      ],
      "text/plain": [
       "       Date  Game Result  W-ELO  B-ELO  Num Moves  W1  B1   W2   B2    W3  \\\n",
       "Game1  2000            1   2851   2555        147  d4  d5   c4   e6   Nc3   \n",
       "Game2  2000            1   2851   2544         45  e4  c5  Nf3  Nc6   Bb5   \n",
       "Game3  2000            1   2851   2748         90  d4  d5   c4   c6   Nc3   \n",
       "Game4  2000            1   2851   2637         51  e4  e5  Nf3  Nf6  Nxe5   \n",
       "Game5  2000            1   2851   2751         69  e4  e6   d4   d5   Nc3   \n",
       "\n",
       "        B3    W4    B4    W5    B5   W6    B6     W7    B7   W8   B8     W9  \\\n",
       "Game1  Nf6  cxd5  exd5   Bg5    c6  Qc2   Be7     e3  Nbd7  Bd3  O-O   Nge2   \n",
       "Game2   d6    c3   Nf6   Qe2    e5   d4  exd4   cxd4    a6   e5  Nd5  exd6+   \n",
       "Game3  Nf6   Nf3  dxc4    a4   Bf5  Ne5  Nbd7   Nxc4   Qc7   g3   e5   dxe5   \n",
       "Game4   d6   Nf3  Nxe4    d4    d5  Bd3   Be7    O-O   Nc6   c4  Nb4    Be2   \n",
       "Game5  Nf6   Bg5  dxe4  Nxe4  Nbd7  Nf3   Be7  Nxf6+  Bxf6   h4  O-O    Bd3   \n",
       "\n",
       "         B9    W10   B10   W11   B11    W12   B12   W13    B13   W14   B14  \\\n",
       "Game1   Re8    O-O   Nf8    f3   Ng6   Rad1    h6  Bxf6   Bxf6  Bxg6  fxg6   \n",
       "Game2   Be6  Bxc6+  bxc6  dxc5  Qa5+    Bd2  Qxc5   O-O    Kd7   Na3  Bxd6   \n",
       "Game3  Nxe5    Bf4  Nfd7   Bg2    g5    Ne3  gxf4  Nxf5  O-O-O   Qc2   Ng4   \n",
       "Game4   O-O    Nc3   Bf5    a3  Nxc3   bxc3   Nc6   Re1    Bf6   Bf4   Ne7   \n",
       "Game5    c5    Qe2  cxd4   Qe4    g6  O-O-O   Qa5  Bxf6   Nxf6  Qxd4   Nh5   \n",
       "\n",
       "        W15   B15   W16   B16  W17   B17   W18   B18   W19    B19   W20  B20  \\\n",
       "Game1    e4    g5    e5   Be7   f4  gxf4  Nxf4   Rf8   Ng6  Rxf1+  Rxf1  Be6   \n",
       "Game2  Rab1   Bf5  Rbc1  Rhe8  Qd1   Qa7   Nc4   Bc7   Bc3     f6   Nd4  Be6   \n",
       "Game3    a5  fxg3  hxg3    a6  Ra4  Ndf6   Ne4  Nxe4  Bxe4     h5   Kf1  Kb8   \n",
       "Game4   Qb3    b6  cxd5  Nxd5  Be5   Bg4  Rad1   Be7    h3    Bh5    g4  Bg6   \n",
       "Game5    a3   Rd8   Qe3   Bd7   g4   Nf6   Qf4   Nd5   Qh6    Nf6   Ng5  Bc6   \n",
       "\n",
       "        W21   B21   W22   B22    W23   B23    W24   B24    W25    B25   W26  \\\n",
       "Game1   Ne2   Qd7    h4   Re8    Ng3   Bf7  Nxe7+  Rxe7    Nf5    Re6   Nd6   \n",
       "Game2  Nxc6  Kxc6   Bd4   Qb8   Qa4+  <NA>   <NA>  <NA>   <NA>   <NA>  <NA>   \n",
       "Game3   Kg2   Be7  Nxe7  Qxe7    Bf3   Ne5   Bxh5   Qe6    Qc3     f6  Rah4   \n",
       "Game4   Bg3   Nf6   Ne5   Ne4    Bf3  Nxg3    Nc6   Qd6  Nxe7+    Kh8  Bxa8   \n",
       "Game5  Bxg6  hxg6  Nxe6  fxe6  Qxg6+   Kh8  Qxf6+   Kh7   Rhe1  Rxd1+  Rxd1   \n",
       "\n",
       "        B26   W27   B27   W28   B28    W29   B29   W30   B30   W31   B31  \\\n",
       "Game1   Bg6   Qc3  Rxd6  exd6  Qxd6    Qa3   Qb8   Qe7   Qg3   Rf3   Qg4   \n",
       "Game2  <NA>  <NA>  <NA>  <NA>  <NA>   <NA>  <NA>  <NA>  <NA>  <NA>  <NA>   \n",
       "Game3   Qf5   Bf3  Rxh4  Rxh4   Qb1    Rh1   Rd1  Rxd1  Qxd1    b4   Kc7   \n",
       "Game4  <NA>  <NA>  <NA>  <NA>  <NA>   <NA>  <NA>  <NA>  <NA>  <NA>  <NA>   \n",
       "Game5   Qc5    g5   Rf8  Qh6+   Kg8  Qxe6+   Kg7  Qh6+   Kg8  Qg6+   Kh8   \n",
       "\n",
       "        W32   B32    W33   B33   W34   B34   W35   B35   W36   B36   W37  \\\n",
       "Game1  Qf8+   Kh7    Qf4   Qd7   Rg3   Be4   Qe5   Qf7    h5   Qd7    b4   \n",
       "Game2  <NA>  <NA>   <NA>  <NA>  <NA>  <NA>  <NA>  <NA>  <NA>  <NA>  <NA>   \n",
       "Game3   Qc5   Qd6  Qxd6+  Kxd6   Be4   Nc4   Bd3   Nb2    f4   Nd1    g4   \n",
       "Game4  <NA>  <NA>   <NA>  <NA>  <NA>  <NA>  <NA>  <NA>  <NA>  <NA>  <NA>   \n",
       "Game5  Qh6+   Kg8   Qe6+   Kg7   Rd6   Be8  Qe7+  <NA>  <NA>  <NA>  <NA>   \n",
       "\n",
       "        B37   W38   B38   W39   B39   W40   B40   W41   B41   W42   B42   W43  \\\n",
       "Game1    a6    a4   Kg8    a5   Kh7   Kf2   Kg8  Qb8+   Kh7   Qf8   Bc2   Qf4   \n",
       "Game2  <NA>  <NA>  <NA>  <NA>  <NA>  <NA>  <NA>  <NA>  <NA>  <NA>  <NA>  <NA>   \n",
       "Game3  Ne3+   Kf3   Nd5   Ke4  Nxb4   Bc4    c5    g5  fxg5  fxg5   Ke7   Kf5   \n",
       "Game4  <NA>  <NA>  <NA>  <NA>  <NA>  <NA>  <NA>  <NA>  <NA>  <NA>  <NA>  <NA>   \n",
       "Game5  <NA>  <NA>  <NA>  <NA>  <NA>  <NA>  <NA>  <NA>  <NA>  <NA>  <NA>  <NA>   \n",
       "\n",
       "        B43   W44   B44   W45   B45   W46   B46   W47   B47   W48   B48   W49  \\\n",
       "Game1   Be4   Qe5   Kg8   Ke3   Kh7   Ke2   Kg8  Qb8+   Kh7   Qf8   Bc2   Kd2   \n",
       "Game2  <NA>  <NA>  <NA>  <NA>  <NA>  <NA>  <NA>  <NA>  <NA>  <NA>  <NA>  <NA>   \n",
       "Game3   Nc2   Ke5   Ne3   Be6    c4  <NA>  <NA>  <NA>  <NA>  <NA>  <NA>  <NA>   \n",
       "Game4  <NA>  <NA>  <NA>  <NA>  <NA>  <NA>  <NA>  <NA>  <NA>  <NA>  <NA>  <NA>   \n",
       "Game5  <NA>  <NA>  <NA>  <NA>  <NA>  <NA>  <NA>  <NA>  <NA>  <NA>  <NA>  <NA>   \n",
       "\n",
       "        B49   W50   B50   W51   B51   W52   B52   W53   B53   W54   B54   W55  \\\n",
       "Game1   Be4   Kc1   Qc7   Rg4   Qd7   Rf4  Bxg2  Qf5+  Qxf5  Rxf5   Kg8    d2   \n",
       "Game2  <NA>  <NA>  <NA>  <NA>  <NA>  <NA>  <NA>  <NA>  <NA>  <NA>  <NA>  <NA>   \n",
       "Game3  <NA>  <NA>  <NA>  <NA>  <NA>  <NA>  <NA>  <NA>  <NA>  <NA>  <NA>  <NA>   \n",
       "Game4  <NA>  <NA>  <NA>  <NA>  <NA>  <NA>  <NA>  <NA>  <NA>  <NA>  <NA>  <NA>   \n",
       "Game5  <NA>  <NA>  <NA>  <NA>  <NA>  <NA>  <NA>  <NA>  <NA>  <NA>  <NA>  <NA>   \n",
       "\n",
       "        B55   W56   B56   W57   B57   W58   B58   W59   B59   W60   B60   W61  \\\n",
       "Game1    h3    f4    e6    e3    f7    f5    f8    e5    e8    f4    f7    g4   \n",
       "Game2  <NA>  <NA>  <NA>  <NA>  <NA>  <NA>  <NA>  <NA>  <NA>  <NA>  <NA>  <NA>   \n",
       "Game3  <NA>  <NA>  <NA>  <NA>  <NA>  <NA>  <NA>  <NA>  <NA>  <NA>  <NA>  <NA>   \n",
       "Game4  <NA>  <NA>  <NA>  <NA>  <NA>  <NA>  <NA>  <NA>  <NA>  <NA>  <NA>  <NA>   \n",
       "Game5  <NA>  <NA>  <NA>  <NA>  <NA>  <NA>  <NA>  <NA>  <NA>  <NA>  <NA>  <NA>   \n",
       "\n",
       "        B61   W62   B62   W63   B63   W64   B64   W65   B65   W66   B66   W67  \\\n",
       "Game1    e8    g3    f7    f4    e8    f5   xh5    e6    g6    e3    c2   f3+   \n",
       "Game2  <NA>  <NA>  <NA>  <NA>  <NA>  <NA>  <NA>  <NA>  <NA>  <NA>  <NA>  <NA>   \n",
       "Game3  <NA>  <NA>  <NA>  <NA>  <NA>  <NA>  <NA>  <NA>  <NA>  <NA>  <NA>  <NA>   \n",
       "Game4  <NA>  <NA>  <NA>  <NA>  <NA>  <NA>  <NA>  <NA>  <NA>  <NA>  <NA>  <NA>   \n",
       "Game5  <NA>  <NA>  <NA>  <NA>  <NA>  <NA>  <NA>  <NA>  <NA>  <NA>  <NA>  <NA>   \n",
       "\n",
       "        B67   W68   B68   W69   B69   W70   B70   W71   B71   W72   B72   W73  \\\n",
       "Game1    g8     5   xb5   xd5     4    c4     3    c3     5     5     4    f4   \n",
       "Game2  <NA>  <NA>  <NA>  <NA>  <NA>  <NA>  <NA>  <NA>  <NA>  <NA>  <NA>  <NA>   \n",
       "Game3  <NA>  <NA>  <NA>  <NA>  <NA>  <NA>  <NA>  <NA>  <NA>  <NA>  <NA>  <NA>   \n",
       "Game4  <NA>  <NA>  <NA>  <NA>  <NA>  <NA>  <NA>  <NA>  <NA>  <NA>  <NA>  <NA>   \n",
       "Game5  <NA>  <NA>  <NA>  <NA>  <NA>  <NA>  <NA>  <NA>  <NA>  <NA>  <NA>  <NA>   \n",
       "\n",
       "        B73   W74   B74   W75   B75  W1-Numeric  W2-Numeric  W3-Numeric  \\\n",
       "Game1     5     6  <NA>  <NA>  <NA>          16          35          36   \n",
       "Game2  <NA>  <NA>  <NA>  <NA>  <NA>          18          18           8   \n",
       "Game3  <NA>  <NA>  <NA>  <NA>  <NA>          16          35          36   \n",
       "Game4  <NA>  <NA>  <NA>  <NA>  <NA>          18          18          57   \n",
       "Game5  <NA>  <NA>  <NA>  <NA>  <NA>          18          39          36   \n",
       "\n",
       "       W4-Numeric  W5-Numeric  W6-Numeric  W7-Numeric  W8-Numeric  B1-Numeric  \\\n",
       "Game1         157          30         225         440          28          16   \n",
       "Game2         151         168         350         422         557          14   \n",
       "Game3          72         215         145         226         585          16   \n",
       "Game4          72         241          18         264         526          18   \n",
       "Game5          23         139         155         252         602          19   \n",
       "\n",
       "       B2-Numeric  B3-Numeric  B4-Numeric  B5-Numeric  B6-Numeric  B7-Numeric  \\\n",
       "Game1          64          55         214         280          30         159   \n",
       "Game2          23         122          91         306         406         427   \n",
       "Game3          54          55         200          25         132         304   \n",
       "Game4          30         122         112         293          30         168   \n",
       "Game5          58          55         204         103          30          97   \n",
       "\n",
       "       B8-Numeric  \n",
       "Game1         327  \n",
       "Game2         205  \n",
       "Game3         562  \n",
       "Game4         169  \n",
       "Game5         327  "
      ]
     },
     "execution_count": 6,
     "metadata": {},
     "output_type": "execute_result"
    }
   ],
   "source": [
    "chess_data.head()"
   ]
  },
  {
   "cell_type": "code",
   "execution_count": 7,
   "id": "fefb9cc5",
   "metadata": {
    "scrolled": true
   },
   "outputs": [
    {
     "name": "stdout",
     "output_type": "stream",
     "text": [
      "<class 'pandas.core.frame.DataFrame'>\n",
      "Index: 156238 entries, Game1 to Game156371\n",
      "Columns: 171 entries, Date to B8-Numeric\n",
      "dtypes: int16(11), int32(4), int64(1), int8(5), string(150)\n",
      "memory usage: 187.6+ MB\n"
     ]
    }
   ],
   "source": [
    "chess_data.info()"
   ]
  },
  {
   "cell_type": "markdown",
   "id": "1aaa6ee0",
   "metadata": {},
   "source": [
    "### kNN REGRESSION"
   ]
  },
  {
   "cell_type": "code",
   "execution_count": 8,
   "id": "43ecf4d6",
   "metadata": {},
   "outputs": [],
   "source": [
    "predictors = ['W1-Numeric', 'W2-Numeric', 'W3-Numeric', 'W4-Numeric', 'W5-Numeric', 'W6-Numeric', 'W7-Numeric', 'W8-Numeric', 'W-ELO', 'B-ELO', 'Num Moves']\n",
    "target = 'Game Result'\n",
    "X = chess_data[predictors].values\n",
    "y = chess_data[target].values\n",
    "X_train, X_test, y_train, y_test = train_test_split(X, y, test_size = 0.33, random_state = 42)"
   ]
  },
  {
   "cell_type": "code",
   "execution_count": 9,
   "id": "16f72df0",
   "metadata": {},
   "outputs": [
    {
     "data": {
      "text/plain": [
       "0.563570534682219"
      ]
     },
     "execution_count": 9,
     "metadata": {},
     "output_type": "execute_result"
    }
   ],
   "source": [
    "#\n",
    "# knn classification\n",
    "#\n",
    "\n",
    "knn = KNeighborsClassifier(n_neighbors = 3)\n",
    "knn.fit(X_train, y_train)\n",
    "# for classifiers, score is accuracy\n",
    "accuracy = knn.score(X_test, y_test)\n",
    "\n",
    "# verify\n",
    "predicted = knn.predict(X_test)\n",
    "actual = y_test\n",
    "np.mean(actual == predicted)\n",
    "\n",
    "# baseline\n",
    "baseline_accuracy = pd.Series(y_train).value_counts().iloc[0] / y_train.size\n",
    "baseline_accuracy"
   ]
  },
  {
   "cell_type": "code",
   "execution_count": 10,
   "id": "7f1f5371",
   "metadata": {},
   "outputs": [],
   "source": [
    "# knn regression; predict Game Result\n",
    "reg = KNeighborsRegressor(n_neighbors = 5)\n",
    "reg.fit(X_train, y_train)\n",
    "\n",
    "# make predictions\n",
    "predicted = reg.predict(X_test)\n",
    "rmse = np.sqrt(np.mean((y_test - predicted)**2))"
   ]
  },
  {
   "cell_type": "code",
   "execution_count": 11,
   "id": "c25bb979",
   "metadata": {},
   "outputs": [
    {
     "name": "stdout",
     "output_type": "stream",
     "text": [
      "[1 0 0 0 0 0 0 0 1 0]\n",
      "[1 0 0 1 1 0 1 0 1 0]\n"
     ]
    }
   ],
   "source": [
    "# compare first ten predictions with first ten correct values\n",
    "print(predicted[:10].astype(int))\n",
    "print(y_test[:10])"
   ]
  },
  {
   "cell_type": "code",
   "execution_count": 12,
   "id": "dc035d51",
   "metadata": {},
   "outputs": [
    {
     "name": "stdout",
     "output_type": "stream",
     "text": [
      "MSE: 0\n"
     ]
    }
   ],
   "source": [
    "mse = ((predicted - y_test)**2).mean()\n",
    "print('MSE: {0:.0f}'.format(mse))"
   ]
  },
  {
   "cell_type": "code",
   "execution_count": 13,
   "id": "b3cc3a5a",
   "metadata": {},
   "outputs": [
    {
     "name": "stderr",
     "output_type": "stream",
     "text": [
      "C:\\Users\\Abrah\\anaconda3\\lib\\site-packages\\seaborn\\distributions.py:2619: FutureWarning: `distplot` is a deprecated function and will be removed in a future version. Please adapt your code to use either `displot` (a figure-level function with similar flexibility) or `histplot` (an axes-level function for histograms).\n",
      "  warnings.warn(msg, FutureWarning)\n"
     ]
    },
    {
     "data": {
      "image/png": "[encoded data removed]",
      "text/plain": [
       "<Figure size 576x432 with 1 Axes>"
      ]
     },
     "metadata": {
      "needs_background": "light"
     },
     "output_type": "display_data"
    }
   ],
   "source": [
    "# plot absolute prediction error as a histogram\n",
    "plt.figure(figsize=(8,6))\n",
    "sns.distplot(predicted - y_test, kde=False)\n",
    "plt.title('Histogram of prediction error')\n",
    "plt.xlabel('Absolute difference between prediction and actual value ($)')\n",
    "plt.xlim(-12000, 12000);"
   ]
  },
  {
   "cell_type": "code",
   "execution_count": 14,
   "id": "f82cf392",
   "metadata": {},
   "outputs": [
    {
     "data": {
      "text/plain": [
       "0.21295991000601253"
      ]
     },
     "execution_count": 14,
     "metadata": {},
     "output_type": "execute_result"
    }
   ],
   "source": [
    "# verify\n",
    "predicted = reg.predict(X_test)\n",
    "actual = y_test\n",
    "np.mean(actual == predicted)"
   ]
  },
  {
   "cell_type": "markdown",
   "id": "de03aba8",
   "metadata": {},
   "source": [
    "### kNN CLASSIFICATION"
   ]
  },
  {
   "cell_type": "code",
   "execution_count": 15,
   "id": "5987bc41",
   "metadata": {},
   "outputs": [],
   "source": [
    "predictors = ['W1-Numeric', 'W2-Numeric', 'W3-Numeric', 'W4-Numeric', 'W5-Numeric', 'W6-Numeric', 'W7-Numeric', 'W8-Numeric', 'W-ELO', 'B-ELO', 'Num Moves']\n",
    "target = 'Game Result'\n",
    "X = chess_data[predictors].values\n",
    "y = (chess_data[target] == 1).values"
   ]
  },
  {
   "cell_type": "code",
   "execution_count": 16,
   "id": "ee992a55",
   "metadata": {},
   "outputs": [],
   "source": [
    "# test/train split\n",
    "X_train, X_test, y_train, y_test = train_test_split(X, y, test_size = 0.30, random_state = 0)"
   ]
  },
  {
   "cell_type": "code",
   "execution_count": 17,
   "id": "b5d474fb",
   "metadata": {},
   "outputs": [],
   "source": [
    "# scale the data\n",
    "scaler = StandardScaler()\n",
    "X_train = scaler.fit_transform(X_train)\n",
    "X_test = scaler.transform(X_test)"
   ]
  },
  {
   "cell_type": "code",
   "execution_count": 18,
   "id": "81f38a51",
   "metadata": {},
   "outputs": [
    {
     "name": "stdout",
     "output_type": "stream",
     "text": [
      "[[-0.57571567 -0.91090946 -0.75034151  1.44876788 -1.34482181  0.17923874\n",
      "   1.16407148  0.47671437  1.16773788  0.63507929 -0.65088511]\n",
      " [ 0.59088405 -0.91090946  0.82091486 -0.20808593 -0.61932016 -1.21537548\n",
      "   1.34383721  0.16353264  1.01440929  0.51571774 -0.17736796]\n",
      " [ 0.59088405  1.5016358  -0.75034151  1.00003664 -0.40051808 -0.31988635\n",
      "  -1.34622857 -0.04183243  1.14047946  0.90449537  0.21722966]\n",
      " [ 0.59088405 -0.91090946 -1.59881994 -0.05275588  0.99290572  0.83984548\n",
      "  -1.53241451 -1.56666808  0.87811722  1.14662881 -0.72980463]\n",
      " [ 0.59088405 -0.91090946  0.56951384  1.00003664  1.16564421  1.17014884\n",
      "  -1.41685083  0.02491121  0.65664259  0.34520124 -1.12440225]\n",
      " [ 0.00758419  0.55385016 -0.75034151  1.15536669 -0.40051808  0.26731964\n",
      "   1.43372008 -1.2637546   1.50506077  1.13980815 -0.9665632 ]\n",
      " [ 0.59088405 -0.91090946 -1.63024507 -0.05275588  0.71652414 -0.99517323\n",
      "   1.16407148 -0.13938084  0.62256957  0.9079057  -1.51899987]\n",
      " [ 0.00758419 -0.91090946  1.07231588 -1.48524407 -0.65386786  0.17923874\n",
      "   1.00356636 -1.60260697 -1.33322173 -2.63201693 -0.33520701]\n",
      " [ 0.59088405 -0.91090946  0.82091486 -0.20808593 -0.67689966  1.10408817\n",
      "   1.00356636 -0.8992316   0.02629174  0.29404628 -0.72980463]\n",
      " [ 0.00758419 -0.91090946 -1.34741893  1.15536669 -1.4945285  -0.52540844\n",
      "  -1.41685083 -1.40237603 -0.61428102 -1.14511301  1.16426395]]\n"
     ]
    }
   ],
   "source": [
    "# look at the scaled data\n",
    "print(X_train[:10,:])"
   ]
  },
  {
   "cell_type": "code",
   "execution_count": 19,
   "id": "e6f53167",
   "metadata": {},
   "outputs": [
    {
     "data": {
      "text/html": [
       "<style>#sk-container-id-1 {color: black;background-color: white;}#sk-container-id-1 pre{padding: 0;}#sk-container-id-1 div.sk-toggleable {background-color: white;}#sk-container-id-1 label.sk-toggleable__label {cursor: pointer;display: block;width: 100%;margin-bottom: 0;padding: 0.3em;box-sizing: border-box;text-align: center;}#sk-container-id-1 label.sk-toggleable__label-arrow:before {content: \"▸\";float: left;margin-right: 0.25em;color: #696969;}#sk-container-id-1 label.sk-toggleable__label-arrow:hover:before {color: black;}#sk-container-id-1 div.sk-estimator:hover label.sk-toggleable__label-arrow:before {color: black;}#sk-container-id-1 div.sk-toggleable__content {max-height: 0;max-width: 0;overflow: hidden;text-align: left;background-color: #f0f8ff;}#sk-container-id-1 div.sk-toggleable__content pre {margin: 0.2em;color: black;border-radius: 0.25em;background-color: #f0f8ff;}#sk-container-id-1 input.sk-toggleable__control:checked~div.sk-toggleable__content {max-height: 200px;max-width: 100%;overflow: auto;}#sk-container-id-1 input.sk-toggleable__control:checked~label.sk-toggleable__label-arrow:before {content: \"▾\";}#sk-container-id-1 div.sk-estimator input.sk-toggleable__control:checked~label.sk-toggleable__label {background-color: #d4ebff;}#sk-container-id-1 div.sk-label input.sk-toggleable__control:checked~label.sk-toggleable__label {background-color: #d4ebff;}#sk-container-id-1 input.sk-hidden--visually {border: 0;clip: rect(1px 1px 1px 1px);clip: rect(1px, 1px, 1px, 1px);height: 1px;margin: -1px;overflow: hidden;padding: 0;position: absolute;width: 1px;}#sk-container-id-1 div.sk-estimator {font-family: monospace;background-color: #f0f8ff;border: 1px dotted black;border-radius: 0.25em;box-sizing: border-box;margin-bottom: 0.5em;}#sk-container-id-1 div.sk-estimator:hover {background-color: #d4ebff;}#sk-container-id-1 div.sk-parallel-item::after {content: \"\";width: 100%;border-bottom: 1px solid gray;flex-grow: 1;}#sk-container-id-1 div.sk-label:hover label.sk-toggleable__label {background-color: #d4ebff;}#sk-container-id-1 div.sk-serial::before {content: \"\";position: absolute;border-left: 1px solid gray;box-sizing: border-box;top: 0;bottom: 0;left: 50%;z-index: 0;}#sk-container-id-1 div.sk-serial {display: flex;flex-direction: column;align-items: center;background-color: white;padding-right: 0.2em;padding-left: 0.2em;position: relative;}#sk-container-id-1 div.sk-item {position: relative;z-index: 1;}#sk-container-id-1 div.sk-parallel {display: flex;align-items: stretch;justify-content: center;background-color: white;position: relative;}#sk-container-id-1 div.sk-item::before, #sk-container-id-1 div.sk-parallel-item::before {content: \"\";position: absolute;border-left: 1px solid gray;box-sizing: border-box;top: 0;bottom: 0;left: 50%;z-index: -1;}#sk-container-id-1 div.sk-parallel-item {display: flex;flex-direction: column;z-index: 1;position: relative;background-color: white;}#sk-container-id-1 div.sk-parallel-item:first-child::after {align-self: flex-end;width: 50%;}#sk-container-id-1 div.sk-parallel-item:last-child::after {align-self: flex-start;width: 50%;}#sk-container-id-1 div.sk-parallel-item:only-child::after {width: 0;}#sk-container-id-1 div.sk-dashed-wrapped {border: 1px dashed gray;margin: 0 0.4em 0.5em 0.4em;box-sizing: border-box;padding-bottom: 0.4em;background-color: white;}#sk-container-id-1 div.sk-label label {font-family: monospace;font-weight: bold;display: inline-block;line-height: 1.2em;}#sk-container-id-1 div.sk-label-container {text-align: center;}#sk-container-id-1 div.sk-container {/* jupyter's `normalize.less` sets `[hidden] { display: none; }` but bootstrap.min.css set `[hidden] { display: none !important; }` so we also need the `!important` here to be able to override the default hidden behavior on the sphinx rendered scikit-learn.org. See: https://github.com/scikit-learn/scikit-learn/issues/21755 */display: inline-block !important;position: relative;}#sk-container-id-1 div.sk-text-repr-fallback {display: none;}</style><div id=\"sk-container-id-1\" class=\"sk-top-container\"><div class=\"sk-text-repr-fallback\"><pre>KNeighborsClassifier()</pre><b>In a Jupyter environment, please rerun this cell to show the HTML representation or trust the notebook. <br />On GitHub, the HTML representation is unable to render, please try loading this page with nbviewer.org.</b></div><div class=\"sk-container\" hidden><div class=\"sk-item\"><div class=\"sk-estimator sk-toggleable\"><input class=\"sk-toggleable__control sk-hidden--visually\" id=\"sk-estimator-id-1\" type=\"checkbox\" checked><label for=\"sk-estimator-id-1\" class=\"sk-toggleable__label sk-toggleable__label-arrow\">KNeighborsClassifier</label><div class=\"sk-toggleable__content\"><pre>KNeighborsClassifier()</pre></div></div></div></div></div>"
      ],
      "text/plain": [
       "KNeighborsClassifier()"
      ]
     },
     "execution_count": 19,
     "metadata": {},
     "output_type": "execute_result"
    }
   ],
   "source": [
    "# build a kNN classifier\n",
    "clf = KNeighborsClassifier()\n",
    "clf.fit(X_train, y_train)"
   ]
  },
  {
   "cell_type": "code",
   "execution_count": 20,
   "id": "e3cb03c9",
   "metadata": {},
   "outputs": [],
   "source": [
    "# make predictions\n",
    "predictions = clf.predict(X_test)"
   ]
  },
  {
   "cell_type": "code",
   "execution_count": 21,
   "id": "132f3c18",
   "metadata": {
    "scrolled": true
   },
   "outputs": [
    {
     "name": "stdout",
     "output_type": "stream",
     "text": [
      "[ True  True  True  True  True  True False  True False  True]\n",
      "[ True  True  True False  True  True  True  True  True  True]\n"
     ]
    }
   ],
   "source": [
    "# compare first ten predictions with first ten correct values\n",
    "print(predictions[:10])\n",
    "print(y_test[:10])"
   ]
  },
  {
   "cell_type": "code",
   "execution_count": 22,
   "id": "65fb7bea",
   "metadata": {},
   "outputs": [
    {
     "name": "stdout",
     "output_type": "stream",
     "text": [
      "accuracy: 0.648\n"
     ]
    }
   ],
   "source": [
    "accuracy = (predictions == y_test).mean()\n",
    "print('accuracy: {0:.3f}'. format(accuracy))"
   ]
  },
  {
   "cell_type": "code",
   "execution_count": 23,
   "id": "5ed14e28",
   "metadata": {},
   "outputs": [
    {
     "name": "stdout",
     "output_type": "stream",
     "text": [
      "accuracy: 0.659\n"
     ]
    }
   ],
   "source": [
    "# try with k = 7 instead of the default value of 5\n",
    "clf = KNeighborsClassifier(n_neighbors = 7)\n",
    "clf.fit(X_train, y_train)\n",
    "predictions = clf.predict(X_test)\n",
    "accuracy = (predictions == y_test).mean()\n",
    "print('accuracy: {0:.3f}'. format(accuracy))"
   ]
  },
  {
   "cell_type": "markdown",
   "id": "1e0bdc42",
   "metadata": {},
   "source": [
    "### kNN ANOMALY DETECTION"
   ]
  },
  {
   "cell_type": "code",
   "execution_count": 24,
   "id": "dde4bba9",
   "metadata": {},
   "outputs": [],
   "source": [
    "#\n",
    "# kNN anomaly detector\n",
    "#\n",
    "\n",
    "# compute distance between two n-dimensional points\n",
    "def edist(x,y):\n",
    "    return np.sqrt(np.sum((x-y)**2))\n",
    "\n",
    "# return a distance matrix based on columns of float matrix x\n",
    "def dist(x):\n",
    "    m = x.shape[0]\n",
    "    dm = np.zeros((m,m))\n",
    "    for i in range(m):\n",
    "        for j in range(i,m):\n",
    "            dm[i,j] = edist(x[i,:], x[j,:])\n",
    "            dm[j,i] = dm[i,j]\n",
    "    return dm"
   ]
  },
  {
   "cell_type": "code",
   "execution_count": 25,
   "id": "403754c3",
   "metadata": {},
   "outputs": [],
   "source": [
    "# return indexes of anomalous elements of data frame df\n",
    "# df - a data frame in which all columns are numeric\n",
    "# k  - k parameter of KNN\n",
    "# threshold - number of standard deviations past mean distance\n",
    "#      to be considered an anomaly\n",
    "def knn_anomalies(df, k = 3, threshold = 3):\n",
    "    # scale the data and compute distance matrix\n",
    "    x = df.apply(zscore).values\n",
    "    dm = dist(x)\n",
    "    \n",
    "    # Compute and return an array containing the\n",
    "    # row numbers of data frame df for which the distance to\n",
    "    # the kth nearest neighbor is more than 'threshold' number\n",
    "    # of standard deviations above the mean of the distances.\n",
    "    # Refer to lecture slides for hints.\n",
    "    # Pseudocode:\n",
    "    # 1. for each row, compute distance to kth neareset neighbor\n",
    "    # 2. use zscale-normalization on the distances\n",
    "    # 3. get the indexes of the scaled distances that are larger than threshold\n",
    "        \n",
    "    sorted_distances = np.apply_along_axis(np.sort, 1, dm)\n",
    "    dist_to_k_nearest = sorted_distances[:,k]\n",
    "    \n",
    "    dist_std = np.std(dist_to_k_nearest)\n",
    "    dist_mean = np.mean(dist_to_k_nearest)\n",
    "    dist_scaled = (dist_to_k_nearest - dist_mean)/dist_std\n",
    "    \n",
    "    anomaly_indexes = np.where(dist_scaled > threshold)\n",
    "    return anomaly_indexes"
   ]
  },
  {
   "cell_type": "code",
   "execution_count": 29,
   "id": "4bb9e7fe",
   "metadata": {},
   "outputs": [
    {
     "ename": "MemoryError",
     "evalue": "Unable to allocate 182. GiB for an array with shape (156238, 156238) and data type float64",
     "output_type": "error",
     "traceback": [
      "\u001b[1;31m---------------------------------------------------------------------------\u001b[0m",
      "\u001b[1;31mMemoryError\u001b[0m                               Traceback (most recent call last)",
      "Input \u001b[1;32mIn [29]\u001b[0m, in \u001b[0;36m<cell line: 7>\u001b[1;34m()\u001b[0m\n\u001b[0;32m      1\u001b[0m \u001b[38;5;66;03m#\u001b[39;00m\n\u001b[0;32m      2\u001b[0m \u001b[38;5;66;03m# test the anomaly detector\u001b[39;00m\n\u001b[0;32m      3\u001b[0m \u001b[38;5;66;03m#\u001b[39;00m\n\u001b[0;32m      4\u001b[0m \n\u001b[0;32m      5\u001b[0m \u001b[38;5;66;03m# compute the anomalies\u001b[39;00m\n\u001b[0;32m      6\u001b[0m features \u001b[38;5;241m=\u001b[39m [\u001b[38;5;124m'\u001b[39m\u001b[38;5;124mW1-Numeric\u001b[39m\u001b[38;5;124m'\u001b[39m, \u001b[38;5;124m'\u001b[39m\u001b[38;5;124mW2-Numeric\u001b[39m\u001b[38;5;124m'\u001b[39m, \u001b[38;5;124m'\u001b[39m\u001b[38;5;124mW3-Numeric\u001b[39m\u001b[38;5;124m'\u001b[39m, \u001b[38;5;124m'\u001b[39m\u001b[38;5;124mW4-Numeric\u001b[39m\u001b[38;5;124m'\u001b[39m, \u001b[38;5;124m'\u001b[39m\u001b[38;5;124mW5-Numeric\u001b[39m\u001b[38;5;124m'\u001b[39m, \u001b[38;5;124m'\u001b[39m\u001b[38;5;124mW6-Numeric\u001b[39m\u001b[38;5;124m'\u001b[39m, \u001b[38;5;124m'\u001b[39m\u001b[38;5;124mW7-Numeric\u001b[39m\u001b[38;5;124m'\u001b[39m, \u001b[38;5;124m'\u001b[39m\u001b[38;5;124mW8-Numeric\u001b[39m\u001b[38;5;124m'\u001b[39m, \u001b[38;5;124m'\u001b[39m\u001b[38;5;124mW-ELO\u001b[39m\u001b[38;5;124m'\u001b[39m, \u001b[38;5;124m'\u001b[39m\u001b[38;5;124mB-ELO\u001b[39m\u001b[38;5;124m'\u001b[39m, \u001b[38;5;124m'\u001b[39m\u001b[38;5;124mNum Moves\u001b[39m\u001b[38;5;124m'\u001b[39m]\n\u001b[1;32m----> 7\u001b[0m anoms \u001b[38;5;241m=\u001b[39m \u001b[43mknn_anomalies\u001b[49m\u001b[43m(\u001b[49m\u001b[43mchess_data\u001b[49m\u001b[43m[\u001b[49m\u001b[43mfeatures\u001b[49m\u001b[43m]\u001b[49m\u001b[43m,\u001b[49m\u001b[43m \u001b[49m\u001b[43mk\u001b[49m\u001b[43m \u001b[49m\u001b[38;5;241;43m=\u001b[39;49m\u001b[43m \u001b[49m\u001b[38;5;241;43m7\u001b[39;49m\u001b[43m,\u001b[49m\u001b[43m \u001b[49m\u001b[43mthreshold\u001b[49m\u001b[43m \u001b[49m\u001b[38;5;241;43m=\u001b[39;49m\u001b[43m \u001b[49m\u001b[38;5;241;43m5\u001b[39;49m\u001b[43m)\u001b[49m\n\u001b[0;32m      9\u001b[0m \u001b[38;5;66;03m# add new 'Anomaly' column\u001b[39;00m\n\u001b[0;32m     10\u001b[0m x \u001b[38;5;241m=\u001b[39m np\u001b[38;5;241m.\u001b[39mfull(\u001b[38;5;28mlen\u001b[39m(chess_data), \u001b[38;5;28;01mFalse\u001b[39;00m)\n",
      "Input \u001b[1;32mIn [25]\u001b[0m, in \u001b[0;36mknn_anomalies\u001b[1;34m(df, k, threshold)\u001b[0m\n\u001b[0;32m      6\u001b[0m \u001b[38;5;28;01mdef\u001b[39;00m \u001b[38;5;21mknn_anomalies\u001b[39m(df, k \u001b[38;5;241m=\u001b[39m \u001b[38;5;241m3\u001b[39m, threshold \u001b[38;5;241m=\u001b[39m \u001b[38;5;241m3\u001b[39m):\n\u001b[0;32m      7\u001b[0m     \u001b[38;5;66;03m# scale the data and compute distance matrix\u001b[39;00m\n\u001b[0;32m      8\u001b[0m     x \u001b[38;5;241m=\u001b[39m df\u001b[38;5;241m.\u001b[39mapply(zscore)\u001b[38;5;241m.\u001b[39mvalues\n\u001b[1;32m----> 9\u001b[0m     dm \u001b[38;5;241m=\u001b[39m \u001b[43mdist\u001b[49m\u001b[43m(\u001b[49m\u001b[43mx\u001b[49m\u001b[43m)\u001b[49m\n\u001b[0;32m     11\u001b[0m     \u001b[38;5;66;03m# Compute and return an array containing the\u001b[39;00m\n\u001b[0;32m     12\u001b[0m     \u001b[38;5;66;03m# row numbers of data frame df for which the distance to\u001b[39;00m\n\u001b[0;32m     13\u001b[0m     \u001b[38;5;66;03m# the kth nearest neighbor is more than 'threshold' number\u001b[39;00m\n\u001b[1;32m   (...)\u001b[0m\n\u001b[0;32m     18\u001b[0m     \u001b[38;5;66;03m# 2. use zscale-normalization on the distances\u001b[39;00m\n\u001b[0;32m     19\u001b[0m     \u001b[38;5;66;03m# 3. get the indexes of the scaled distances that are larger than threshold\u001b[39;00m\n\u001b[0;32m     21\u001b[0m     sorted_distances \u001b[38;5;241m=\u001b[39m np\u001b[38;5;241m.\u001b[39mapply_along_axis(np\u001b[38;5;241m.\u001b[39msort, \u001b[38;5;241m1\u001b[39m, dm)\n",
      "Input \u001b[1;32mIn [24]\u001b[0m, in \u001b[0;36mdist\u001b[1;34m(x)\u001b[0m\n\u001b[0;32m     10\u001b[0m \u001b[38;5;28;01mdef\u001b[39;00m \u001b[38;5;21mdist\u001b[39m(x):\n\u001b[0;32m     11\u001b[0m     m \u001b[38;5;241m=\u001b[39m x\u001b[38;5;241m.\u001b[39mshape[\u001b[38;5;241m0\u001b[39m]\n\u001b[1;32m---> 12\u001b[0m     dm \u001b[38;5;241m=\u001b[39m \u001b[43mnp\u001b[49m\u001b[38;5;241;43m.\u001b[39;49m\u001b[43mzeros\u001b[49m\u001b[43m(\u001b[49m\u001b[43m(\u001b[49m\u001b[43mm\u001b[49m\u001b[43m,\u001b[49m\u001b[43mm\u001b[49m\u001b[43m)\u001b[49m\u001b[43m)\u001b[49m\n\u001b[0;32m     13\u001b[0m     \u001b[38;5;28;01mfor\u001b[39;00m i \u001b[38;5;129;01min\u001b[39;00m \u001b[38;5;28mrange\u001b[39m(m):\n\u001b[0;32m     14\u001b[0m         \u001b[38;5;28;01mfor\u001b[39;00m j \u001b[38;5;129;01min\u001b[39;00m \u001b[38;5;28mrange\u001b[39m(i,m):\n",
      "\u001b[1;31mMemoryError\u001b[0m: Unable to allocate 182. GiB for an array with shape (156238, 156238) and data type float64"
     ]
    }
   ],
   "source": [
    "#\n",
    "# test the anomaly detector\n",
    "#\n",
    "\n",
    "# compute the anomalies\n",
    "features = ['W1-Numeric', 'W2-Numeric', 'W3-Numeric', 'W4-Numeric', 'W5-Numeric', 'W6-Numeric', 'W7-Numeric', 'W8-Numeric', 'W-ELO', 'B-ELO', 'Num Moves']\n",
    "anoms = knn_anomalies(chess_data[features], k = 7, threshold = 5)\n",
    "\n",
    "# add new 'Anomaly' column\n",
    "x = np.full(len(chess_data), False)\n",
    "x[anoms] = True\n",
    "chess_data['Anomaly'] = x\n",
    "\n",
    "# plot,showing anomalies\n",
    "sns.scatterplot('W-ELO', 'Game Result', data = chess_data, hue='Anomaly', style='Private')"
   ]
  },
  {
   "cell_type": "markdown",
   "id": "aab52add",
   "metadata": {},
   "source": [
    "### LINEAR REGRESSION"
   ]
  },
  {
   "cell_type": "code",
   "execution_count": 30,
   "id": "2865e219",
   "metadata": {
    "scrolled": false
   },
   "outputs": [
    {
     "data": {
      "image/png": "[encoded data removed]",
      "text/plain": [
       "<Figure size 432x288 with 1 Axes>"
      ]
     },
     "metadata": {
      "needs_background": "light"
     },
     "output_type": "display_data"
    }
   ],
   "source": [
    "X = chess_data[['W1-Numeric', 'W2-Numeric', 'W3-Numeric', 'W4-Numeric', 'W5-Numeric', 'W6-Numeric', 'W7-Numeric', 'W8-Numeric', 'W-ELO', 'B-ELO', 'Num Moves']].values #feature\n",
    "y = chess_data['Game Result'].values    #target\n",
    " \n",
    "#fit the model and make predictions from the training data \n",
    "regr = LinearRegression()\n",
    "regr.fit(X,y)\n",
    "fit = regr.predict(X)\n",
    "\n",
    "sns.regplot(x = fit, y = 'Game Result', data = chess_data)\n",
    "plt.show()"
   ]
  },
  {
   "cell_type": "code",
   "execution_count": 31,
   "id": "3dd51a57",
   "metadata": {},
   "outputs": [
    {
     "data": {
      "text/plain": [
       "<AxesSubplot:xlabel='Game Result'>"
      ]
     },
     "execution_count": 31,
     "metadata": {},
     "output_type": "execute_result"
    },
    {
     "data": {
      "image/png": "[encoded data removed]",
      "text/plain": [
       "<Figure size 432x288 with 1 Axes>"
      ]
     },
     "metadata": {
      "needs_background": "light"
     },
     "output_type": "display_data"
    }
   ],
   "source": [
    "sns.regplot(x = 'Game Result', y = fit, data = chess_data)"
   ]
  },
  {
   "cell_type": "code",
   "execution_count": 32,
   "id": "78f5aa35",
   "metadata": {},
   "outputs": [
    {
     "name": "stdout",
     "output_type": "stream",
     "text": [
      "W1-Numeric: 0.00\n",
      "W2-Numeric: 0.00\n",
      "W3-Numeric: -0.00\n",
      "W4-Numeric: -0.00\n",
      "W5-Numeric: -0.00\n",
      "W6-Numeric: 0.00\n",
      "W7-Numeric: 0.00\n",
      "W8-Numeric: -0.00\n",
      "W-ELO: 0.00\n",
      "B-ELO: -0.00\n",
      "Num Moves: -0.00\n"
     ]
    }
   ],
   "source": [
    "print(\"W1-Numeric: {:.2f}\".format(regr.coef_[0]))\n",
    "print(\"W2-Numeric: {:.2f}\".format(regr.coef_[1]))\n",
    "print(\"W3-Numeric: {:.2f}\".format(regr.coef_[2]))\n",
    "print(\"W4-Numeric: {:.2f}\".format(regr.coef_[3]))\n",
    "print(\"W5-Numeric: {:.2f}\".format(regr.coef_[4]))\n",
    "print(\"W6-Numeric: {:.2f}\".format(regr.coef_[5]))\n",
    "print(\"W7-Numeric: {:.2f}\".format(regr.coef_[6]))\n",
    "print(\"W8-Numeric: {:.2f}\".format(regr.coef_[7]))\n",
    "print(\"W-ELO: {:.2f}\".format(regr.coef_[8]))\n",
    "print(\"B-ELO: {:.2f}\".format(regr.coef_[9]))\n",
    "print(\"Num Moves: {:.2f}\".format(regr.coef_[10]))"
   ]
  },
  {
   "cell_type": "code",
   "execution_count": 33,
   "id": "02451705",
   "metadata": {},
   "outputs": [
    {
     "data": {
      "text/html": [
       "<style>#sk-container-id-2 {color: black;background-color: white;}#sk-container-id-2 pre{padding: 0;}#sk-container-id-2 div.sk-toggleable {background-color: white;}#sk-container-id-2 label.sk-toggleable__label {cursor: pointer;display: block;width: 100%;margin-bottom: 0;padding: 0.3em;box-sizing: border-box;text-align: center;}#sk-container-id-2 label.sk-toggleable__label-arrow:before {content: \"▸\";float: left;margin-right: 0.25em;color: #696969;}#sk-container-id-2 label.sk-toggleable__label-arrow:hover:before {color: black;}#sk-container-id-2 div.sk-estimator:hover label.sk-toggleable__label-arrow:before {color: black;}#sk-container-id-2 div.sk-toggleable__content {max-height: 0;max-width: 0;overflow: hidden;text-align: left;background-color: #f0f8ff;}#sk-container-id-2 div.sk-toggleable__content pre {margin: 0.2em;color: black;border-radius: 0.25em;background-color: #f0f8ff;}#sk-container-id-2 input.sk-toggleable__control:checked~div.sk-toggleable__content {max-height: 200px;max-width: 100%;overflow: auto;}#sk-container-id-2 input.sk-toggleable__control:checked~label.sk-toggleable__label-arrow:before {content: \"▾\";}#sk-container-id-2 div.sk-estimator input.sk-toggleable__control:checked~label.sk-toggleable__label {background-color: #d4ebff;}#sk-container-id-2 div.sk-label input.sk-toggleable__control:checked~label.sk-toggleable__label {background-color: #d4ebff;}#sk-container-id-2 input.sk-hidden--visually {border: 0;clip: rect(1px 1px 1px 1px);clip: rect(1px, 1px, 1px, 1px);height: 1px;margin: -1px;overflow: hidden;padding: 0;position: absolute;width: 1px;}#sk-container-id-2 div.sk-estimator {font-family: monospace;background-color: #f0f8ff;border: 1px dotted black;border-radius: 0.25em;box-sizing: border-box;margin-bottom: 0.5em;}#sk-container-id-2 div.sk-estimator:hover {background-color: #d4ebff;}#sk-container-id-2 div.sk-parallel-item::after {content: \"\";width: 100%;border-bottom: 1px solid gray;flex-grow: 1;}#sk-container-id-2 div.sk-label:hover label.sk-toggleable__label {background-color: #d4ebff;}#sk-container-id-2 div.sk-serial::before {content: \"\";position: absolute;border-left: 1px solid gray;box-sizing: border-box;top: 0;bottom: 0;left: 50%;z-index: 0;}#sk-container-id-2 div.sk-serial {display: flex;flex-direction: column;align-items: center;background-color: white;padding-right: 0.2em;padding-left: 0.2em;position: relative;}#sk-container-id-2 div.sk-item {position: relative;z-index: 1;}#sk-container-id-2 div.sk-parallel {display: flex;align-items: stretch;justify-content: center;background-color: white;position: relative;}#sk-container-id-2 div.sk-item::before, #sk-container-id-2 div.sk-parallel-item::before {content: \"\";position: absolute;border-left: 1px solid gray;box-sizing: border-box;top: 0;bottom: 0;left: 50%;z-index: -1;}#sk-container-id-2 div.sk-parallel-item {display: flex;flex-direction: column;z-index: 1;position: relative;background-color: white;}#sk-container-id-2 div.sk-parallel-item:first-child::after {align-self: flex-end;width: 50%;}#sk-container-id-2 div.sk-parallel-item:last-child::after {align-self: flex-start;width: 50%;}#sk-container-id-2 div.sk-parallel-item:only-child::after {width: 0;}#sk-container-id-2 div.sk-dashed-wrapped {border: 1px dashed gray;margin: 0 0.4em 0.5em 0.4em;box-sizing: border-box;padding-bottom: 0.4em;background-color: white;}#sk-container-id-2 div.sk-label label {font-family: monospace;font-weight: bold;display: inline-block;line-height: 1.2em;}#sk-container-id-2 div.sk-label-container {text-align: center;}#sk-container-id-2 div.sk-container {/* jupyter's `normalize.less` sets `[hidden] { display: none; }` but bootstrap.min.css set `[hidden] { display: none !important; }` so we also need the `!important` here to be able to override the default hidden behavior on the sphinx rendered scikit-learn.org. See: https://github.com/scikit-learn/scikit-learn/issues/21755 */display: inline-block !important;position: relative;}#sk-container-id-2 div.sk-text-repr-fallback {display: none;}</style><div id=\"sk-container-id-2\" class=\"sk-top-container\"><div class=\"sk-text-repr-fallback\"><pre>LinearRegression()</pre><b>In a Jupyter environment, please rerun this cell to show the HTML representation or trust the notebook. <br />On GitHub, the HTML representation is unable to render, please try loading this page with nbviewer.org.</b></div><div class=\"sk-container\" hidden><div class=\"sk-item\"><div class=\"sk-estimator sk-toggleable\"><input class=\"sk-toggleable__control sk-hidden--visually\" id=\"sk-estimator-id-2\" type=\"checkbox\" checked><label for=\"sk-estimator-id-2\" class=\"sk-toggleable__label sk-toggleable__label-arrow\">LinearRegression</label><div class=\"sk-toggleable__content\"><pre>LinearRegression()</pre></div></div></div></div></div>"
      ],
      "text/plain": [
       "LinearRegression()"
      ]
     },
     "execution_count": 33,
     "metadata": {},
     "output_type": "execute_result"
    }
   ],
   "source": [
    "X_train, X_test, y_train, y_test = train_test_split(X, y, test_size = 0.2, random_state = 42)\n",
    "regr.fit(X_train, y_train)"
   ]
  },
  {
   "cell_type": "code",
   "execution_count": 34,
   "id": "82902e11",
   "metadata": {},
   "outputs": [
    {
     "name": "stdout",
     "output_type": "stream",
     "text": [
      "R-squared : 0.24\n",
      "R-squared : 0.24\n"
     ]
    }
   ],
   "source": [
    "#Accuracy with predictors\n",
    "r1 = regr.score(X_train, y_train) \n",
    "print('R-squared : {:.2f}'.format(r1))\n",
    "\n",
    "# Test accuracy without opening moves \n",
    "predictions = ['W-ELO', 'B-ELO', 'Num Moves']\n",
    "target = 'Game Result'\n",
    "X = chess_data[predictions].values\n",
    "y = chess_data[target].values\n",
    "X_train2, X_test2, y_train2, y_test2 = train_test_split(X, y, test_size = 0.30, random_state = 42) \n",
    "regr2 = LinearRegression()\n",
    "regr2.fit(X_train2, y_train2)\n",
    "\n",
    "r2 = regr2.score(X_train2, y_train2) \n",
    "print('R-squared : {:.2f}'.format(r2))"
   ]
  },
  {
   "cell_type": "code",
   "execution_count": 35,
   "id": "b377fd01",
   "metadata": {},
   "outputs": [
    {
     "data": {
      "image/png": "[encoded data removed]",
      "text/plain": [
       "<Figure size 432x288 with 1 Axes>"
      ]
     },
     "metadata": {
      "needs_background": "light"
     },
     "output_type": "display_data"
    }
   ],
   "source": [
    "predicted = regr.predict(X_test)\n",
    "sns.scatterplot(x=predicted, y=y_test);"
   ]
  },
  {
   "cell_type": "code",
   "execution_count": 36,
   "id": "b41ee7a5",
   "metadata": {},
   "outputs": [
    {
     "name": "stdout",
     "output_type": "stream",
     "text": [
      "Intercept: 0.42\n",
      "W1-Numeric coefficient: 0.001\n",
      "B1-Numeric coefficient: -0.001\n",
      "W2-Numeric coefficient: 0.000\n",
      "B2-Numeric coefficient: -0.000\n",
      "W3-Numeric coefficient: -0.000\n",
      "B3-Numeric coefficient: 0.000\n",
      "W-ELO coefficient: 0.001\n",
      "B-ELO coefficient: -0.001\n",
      "R-squared using score: 0.24\n"
     ]
    },
    {
     "data": {
      "image/png": "[encoded data removed]",
      "text/plain": [
       "<Figure size 432x288 with 1 Axes>"
      ]
     },
     "metadata": {
      "needs_background": "light"
     },
     "output_type": "display_data"
    }
   ],
   "source": [
    "# use different predictors\n",
    "#8.\tRepeat steps 2-7 using a different pair of predictor variables.\n",
    "\n",
    "predictions = ['W1-Numeric', 'B1-Numeric', 'W2-Numeric', 'B2-Numeric', 'W3-Numeric', 'B3-Numeric', 'W-ELO', 'B-ELO']\n",
    "target = 'Game Result'\n",
    "X = chess_data[predictions].values\n",
    "y = chess_data[target].values\n",
    "\n",
    "X_train1, X_test1, y_train1, y_test1 = train_test_split(X, y, test_size = 0.30, random_state = 42) \n",
    "reg1 = LinearRegression()\n",
    "reg1.fit(X_train1, y_train1)\n",
    "\n",
    "print('Intercept: {:.2f}'.format(reg1.intercept_)) \n",
    "print('W1-Numeric coefficient: {:.3f}'.format(reg1.coef_[0])) \n",
    "print('B1-Numeric coefficient: {:.3f}'.format(reg1.coef_[1])) \n",
    "print('W2-Numeric coefficient: {:.3f}'.format(reg1.coef_[2])) \n",
    "print('B2-Numeric coefficient: {:.3f}'.format(reg1.coef_[3])) \n",
    "print('W3-Numeric coefficient: {:.3f}'.format(reg1.coef_[4])) \n",
    "print('B3-Numeric coefficient: {:.3f}'.format(reg1.coef_[5])) \n",
    "print('W-ELO coefficient: {:.3f}'.format(reg1.coef_[6]))\n",
    "print('B-ELO coefficient: {:.3f}'.format(reg1.coef_[7]))\n",
    "\n",
    "r1 = reg1.score(X_train1, y_train1) \n",
    "print('R-squared using score: {:.2f}'.format(r1))\n",
    "\n",
    "predicted = reg1.predict(X_test1)\n",
    "sns.scatterplot(x=predicted, y=y_test1);"
   ]
  },
  {
   "cell_type": "code",
   "execution_count": 37,
   "id": "c9b2083b",
   "metadata": {},
   "outputs": [
    {
     "name": "stdout",
     "output_type": "stream",
     "text": [
      "Using Polynomial Linear Regression: 0.46\n"
     ]
    },
    {
     "data": {
      "image/png": "[encoded data removed]",
      "text/plain": [
       "<Figure size 432x288 with 1 Axes>"
      ]
     },
     "metadata": {
      "needs_background": "light"
     },
     "output_type": "display_data"
    }
   ],
   "source": [
    "sns.scatterplot(data = chess_data, x = 'W1-Numeric', y = 'Game Result')\n",
    "\n",
    "chess_data['W1-Numeric'] = chess_data['W1-Numeric']**2\n",
    "\n",
    "predictors = ['W1-Numeric', 'B1-Numeric', 'W-ELO', 'B-ELO', 'Num Moves']\n",
    "X = chess_data[predictors].values\n",
    "\n",
    "# Make a model of polynomial features\n",
    "pf = PolynomialFeatures(degree = 3, include_bias = False) \n",
    "pf.fit(X)\n",
    "# Transform X, so it now has many more features\n",
    "X_poly = pf.transform(X)\n",
    "\n",
    "# Split the data\n",
    "X_train2, X_test2, y_train2, y_test2 = train_test_split(X_poly, y, test_size = 0.30, random_state = 42) \n",
    "reg.fit(X_train2, y_train2)\n",
    "\n",
    "predicted2 = reg.predict(X_test2)\n",
    "rsme2 = np.sqrt(((predicted2 - y_test2)**2).mean()) \n",
    "\n",
    "print('Using Polynomial Linear Regression: {:.2f}'.format(rsme2)) "
   ]
  },
  {
   "cell_type": "code",
   "execution_count": 38,
   "id": "95f6e6ef",
   "metadata": {},
   "outputs": [],
   "source": [
    "predictors = ['W7-Numeric','B7-Numeric', 'W8-Numeric', 'B8-Numeric', 'W-ELO', 'B-ELO', 'Num Moves']\n",
    "target = 'Game Result'\n",
    "X = chess_data[predictors].values\n",
    "y = chess_data[target].values\n",
    "X_train, X_test, y_train, y_test = train_test_split(X,y,test_size = 0.30,random_state = 42)"
   ]
  },
  {
   "cell_type": "code",
   "execution_count": 39,
   "id": "a5b79efb",
   "metadata": {},
   "outputs": [],
   "source": [
    "#fit the linear model \n",
    "regr=LinearRegression()\n",
    "regr.fit(X_train, y_train)\n",
    "\n",
    "#make predictions\n",
    "predicted=regr.predict(X_test)"
   ]
  },
  {
   "cell_type": "code",
   "execution_count": 40,
   "id": "4887b639",
   "metadata": {},
   "outputs": [
    {
     "name": "stdout",
     "output_type": "stream",
     "text": [
      "RMSE 1: 0.43\n"
     ]
    }
   ],
   "source": [
    "rmse=np.sqrt(((y_test - predicted)**2).mean())\n",
    "print('RMSE 1: {:.2f}'.format(rmse)) "
   ]
  },
  {
   "cell_type": "code",
   "execution_count": 41,
   "id": "105f851d",
   "metadata": {},
   "outputs": [
    {
     "name": "stdout",
     "output_type": "stream",
     "text": [
      "RMSE 2: 0.43\n"
     ]
    }
   ],
   "source": [
    "#5.\tRepeat steps 2-4, but this time use new randomly-generated test and\n",
    "# training sets.  How much does the RMSE differ?\n",
    "X_train, X_test, y_train, y_test = train_test_split(X, y, test_size = 0.30, random_state = 12) \n",
    "regr.fit(X_train, y_train)\n",
    "predicted = regr.predict(X_test)\n",
    "rsme = np.sqrt(((predicted - y_test)**2).mean()) \n",
    "\n",
    "print('RMSE 2: {:.2f}'.format(rsme)) "
   ]
  },
  {
   "cell_type": "code",
   "execution_count": 42,
   "id": "19c2d8df",
   "metadata": {},
   "outputs": [
    {
     "name": "stdout",
     "output_type": "stream",
     "text": [
      "Average:  0.43131771076509745\n"
     ]
    }
   ],
   "source": [
    "sum = 0\n",
    "\n",
    "for i in range(100):\n",
    "    X_train, X_test, y_train, y_test = train_test_split(X, y, test_size = 0.30, random_state = 42) \n",
    "    regr.fit(X_train, y_train)\n",
    "    predicted = regr.predict(X_test)\n",
    "    sum += np.sqrt(((predicted - y_test)**2).mean()) \n",
    "    \n",
    "print('Average: ', sum/100)"
   ]
  },
  {
   "cell_type": "markdown",
   "id": "4ed67ceb",
   "metadata": {},
   "source": [
    "### DECISION TREE REGRESSOR"
   ]
  },
  {
   "cell_type": "code",
   "execution_count": 43,
   "id": "594c0e11",
   "metadata": {},
   "outputs": [
    {
     "data": {
      "image/svg+xml": [
       "<?xml version=\"1.0\" encoding=\"UTF-8\" standalone=\"no\"?>\r\n",
       "<!DOCTYPE svg PUBLIC \"-//W3C//DTD SVG 1.1//EN\"\r\n",
       " \"http://www.w3.org/Graphics/SVG/1.1/DTD/svg11.dtd\">\r\n",
       "<!-- Generated by graphviz version 2.38.0 (20140413.2041)\r\n",
       " -->\r\n",
       "<!-- Title: Tree Pages: 1 -->\r\n",
       "<svg width=\"666pt\" height=\"269pt\"\r\n",
       " viewBox=\"0.00 0.00 666.00 269.00\" xmlns=\"http://www.w3.org/2000/svg\" xmlns:xlink=\"http://www.w3.org/1999/xlink\">\r\n",
       "<g id=\"graph0\" class=\"graph\" transform=\"scale(1 1) rotate(0) translate(4 265)\">\r\n",
       "<title>Tree</title>\r\n",
       "<polygon fill=\"white\" stroke=\"none\" points=\"-4,4 -4,-265 662,-265 662,4 -4,4\"/>\r\n",
       "<!-- 0 -->\r\n",
       "<g id=\"node1\" class=\"node\"><title>0</title>\r\n",
       "<path fill=\"#f1bd97\" stroke=\"black\" d=\"M392,-261C392,-261 265,-261 265,-261 259,-261 253,-255 253,-249 253,-249 253,-205 253,-205 253,-199 259,-193 265,-193 265,-193 392,-193 392,-193 398,-193 404,-199 404,-205 404,-205 404,-249 404,-249 404,-255 398,-261 392,-261\"/>\r\n",
       "<text text-anchor=\"middle\" x=\"328.5\" y=\"-245.8\" font-family=\"Helvetica,sans-Serif\" font-size=\"14.00\">W&#45;ELO &lt;= 2365.5</text>\r\n",
       "<text text-anchor=\"middle\" x=\"328.5\" y=\"-230.8\" font-family=\"Helvetica,sans-Serif\" font-size=\"14.00\">squared_error = 0.25</text>\r\n",
       "<text text-anchor=\"middle\" x=\"328.5\" y=\"-215.8\" font-family=\"Helvetica,sans-Serif\" font-size=\"14.00\">samples = 100.0%</text>\r\n",
       "<text text-anchor=\"middle\" x=\"328.5\" y=\"-200.8\" font-family=\"Helvetica,sans-Serif\" font-size=\"14.00\">value = 0.56</text>\r\n",
       "</g>\r\n",
       "<!-- 1 -->\r\n",
       "<g id=\"node2\" class=\"node\"><title>1</title>\r\n",
       "<path fill=\"#f5cdb1\" stroke=\"black\" d=\"M308,-157C308,-157 181,-157 181,-157 175,-157 169,-151 169,-145 169,-145 169,-101 169,-101 169,-95 175,-89 181,-89 181,-89 308,-89 308,-89 314,-89 320,-95 320,-101 320,-101 320,-145 320,-145 320,-151 314,-157 308,-157\"/>\r\n",
       "<text text-anchor=\"middle\" x=\"244.5\" y=\"-141.8\" font-family=\"Helvetica,sans-Serif\" font-size=\"14.00\">B&#45;ELO &lt;= 2306.5</text>\r\n",
       "<text text-anchor=\"middle\" x=\"244.5\" y=\"-126.8\" font-family=\"Helvetica,sans-Serif\" font-size=\"14.00\">squared_error = 0.25</text>\r\n",
       "<text text-anchor=\"middle\" x=\"244.5\" y=\"-111.8\" font-family=\"Helvetica,sans-Serif\" font-size=\"14.00\">samples = 66.5%</text>\r\n",
       "<text text-anchor=\"middle\" x=\"244.5\" y=\"-96.8\" font-family=\"Helvetica,sans-Serif\" font-size=\"14.00\">value = 0.49</text>\r\n",
       "</g>\r\n",
       "<!-- 0&#45;&gt;1 -->\r\n",
       "<g id=\"edge1\" class=\"edge\"><title>0&#45;&gt;1</title>\r\n",
       "<path fill=\"none\" stroke=\"black\" d=\"M301.228,-192.884C293.965,-184.065 286.031,-174.43 278.458,-165.235\"/>\r\n",
       "<polygon fill=\"black\" stroke=\"black\" points=\"280.982,-162.794 271.923,-157.299 275.578,-167.244 280.982,-162.794\"/>\r\n",
       "<text text-anchor=\"middle\" x=\"269.515\" y=\"-178.483\" font-family=\"Helvetica,sans-Serif\" font-size=\"14.00\">True</text>\r\n",
       "</g>\r\n",
       "<!-- 4 -->\r\n",
       "<g id=\"node5\" class=\"node\"><title>4</title>\r\n",
       "<path fill=\"#ea9b63\" stroke=\"black\" d=\"M473,-157C473,-157 354,-157 354,-157 348,-157 342,-151 342,-145 342,-145 342,-101 342,-101 342,-95 348,-89 354,-89 354,-89 473,-89 473,-89 479,-89 485,-95 485,-101 485,-101 485,-145 485,-145 485,-151 479,-157 473,-157\"/>\r\n",
       "<text text-anchor=\"middle\" x=\"413.5\" y=\"-141.8\" font-family=\"Helvetica,sans-Serif\" font-size=\"14.00\">B&#45;ELO &lt;= 2428.5</text>\r\n",
       "<text text-anchor=\"middle\" x=\"413.5\" y=\"-126.8\" font-family=\"Helvetica,sans-Serif\" font-size=\"14.00\">squared_error = 0.2</text>\r\n",
       "<text text-anchor=\"middle\" x=\"413.5\" y=\"-111.8\" font-family=\"Helvetica,sans-Serif\" font-size=\"14.00\">samples = 33.5%</text>\r\n",
       "<text text-anchor=\"middle\" x=\"413.5\" y=\"-96.8\" font-family=\"Helvetica,sans-Serif\" font-size=\"14.00\">value = 0.71</text>\r\n",
       "</g>\r\n",
       "<!-- 0&#45;&gt;4 -->\r\n",
       "<g id=\"edge4\" class=\"edge\"><title>0&#45;&gt;4</title>\r\n",
       "<path fill=\"none\" stroke=\"black\" d=\"M356.097,-192.884C363.446,-184.065 371.475,-174.43 379.137,-165.235\"/>\r\n",
       "<polygon fill=\"black\" stroke=\"black\" points=\"382.037,-167.222 385.751,-157.299 376.66,-162.741 382.037,-167.222\"/>\r\n",
       "<text text-anchor=\"middle\" x=\"388.014\" y=\"-178.497\" font-family=\"Helvetica,sans-Serif\" font-size=\"14.00\">False</text>\r\n",
       "</g>\r\n",
       "<!-- 2 -->\r\n",
       "<g id=\"node3\" class=\"node\"><title>2</title>\r\n",
       "<path fill=\"#f1ba93\" stroke=\"black\" d=\"M139,-53C139,-53 12,-53 12,-53 6,-53 0,-47 0,-41 0,-41 0,-12 0,-12 0,-6 6,-0 12,-0 12,-0 139,-0 139,-0 145,-0 151,-6 151,-12 151,-12 151,-41 151,-41 151,-47 145,-53 139,-53\"/>\r\n",
       "<text text-anchor=\"middle\" x=\"75.5\" y=\"-37.8\" font-family=\"Helvetica,sans-Serif\" font-size=\"14.00\">squared_error = 0.24</text>\r\n",
       "<text text-anchor=\"middle\" x=\"75.5\" y=\"-22.8\" font-family=\"Helvetica,sans-Serif\" font-size=\"14.00\">samples = 48.1%</text>\r\n",
       "<text text-anchor=\"middle\" x=\"75.5\" y=\"-7.8\" font-family=\"Helvetica,sans-Serif\" font-size=\"14.00\">value = 0.57</text>\r\n",
       "</g>\r\n",
       "<!-- 1&#45;&gt;2 -->\r\n",
       "<g id=\"edge2\" class=\"edge\"><title>1&#45;&gt;2</title>\r\n",
       "<path fill=\"none\" stroke=\"black\" d=\"M185.392,-88.9485C167.479,-78.9318 147.887,-67.9767 130.271,-58.1263\"/>\r\n",
       "<polygon fill=\"black\" stroke=\"black\" points=\"131.695,-54.9124 121.258,-53.0867 128.278,-61.0221 131.695,-54.9124\"/>\r\n",
       "</g>\r\n",
       "<!-- 3 -->\r\n",
       "<g id=\"node4\" class=\"node\"><title>3</title>\r\n",
       "<path fill=\"#ffffff\" stroke=\"black\" d=\"M308,-53C308,-53 181,-53 181,-53 175,-53 169,-47 169,-41 169,-41 169,-12 169,-12 169,-6 175,-0 181,-0 181,-0 308,-0 308,-0 314,-0 320,-6 320,-12 320,-12 320,-41 320,-41 320,-47 314,-53 308,-53\"/>\r\n",
       "<text text-anchor=\"middle\" x=\"244.5\" y=\"-37.8\" font-family=\"Helvetica,sans-Serif\" font-size=\"14.00\">squared_error = 0.19</text>\r\n",
       "<text text-anchor=\"middle\" x=\"244.5\" y=\"-22.8\" font-family=\"Helvetica,sans-Serif\" font-size=\"14.00\">samples = 18.4%</text>\r\n",
       "<text text-anchor=\"middle\" x=\"244.5\" y=\"-7.8\" font-family=\"Helvetica,sans-Serif\" font-size=\"14.00\">value = 0.27</text>\r\n",
       "</g>\r\n",
       "<!-- 1&#45;&gt;3 -->\r\n",
       "<g id=\"edge3\" class=\"edge\"><title>1&#45;&gt;3</title>\r\n",
       "<path fill=\"none\" stroke=\"black\" d=\"M244.5,-88.9485C244.5,-80.7153 244.5,-71.848 244.5,-63.4814\"/>\r\n",
       "<polygon fill=\"black\" stroke=\"black\" points=\"248,-63.2367 244.5,-53.2367 241,-63.2367 248,-63.2367\"/>\r\n",
       "</g>\r\n",
       "<!-- 5 -->\r\n",
       "<g id=\"node6\" class=\"node\"><title>5</title>\r\n",
       "<path fill=\"#e58139\" stroke=\"black\" d=\"M477,-53C477,-53 350,-53 350,-53 344,-53 338,-47 338,-41 338,-41 338,-12 338,-12 338,-6 344,-0 350,-0 350,-0 477,-0 477,-0 483,-0 489,-6 489,-12 489,-12 489,-41 489,-41 489,-47 483,-53 477,-53\"/>\r\n",
       "<text text-anchor=\"middle\" x=\"413.5\" y=\"-37.8\" font-family=\"Helvetica,sans-Serif\" font-size=\"14.00\">squared_error = 0.14</text>\r\n",
       "<text text-anchor=\"middle\" x=\"413.5\" y=\"-22.8\" font-family=\"Helvetica,sans-Serif\" font-size=\"14.00\">samples = 19.6%</text>\r\n",
       "<text text-anchor=\"middle\" x=\"413.5\" y=\"-7.8\" font-family=\"Helvetica,sans-Serif\" font-size=\"14.00\">value = 0.83</text>\r\n",
       "</g>\r\n",
       "<!-- 4&#45;&gt;5 -->\r\n",
       "<g id=\"edge5\" class=\"edge\"><title>4&#45;&gt;5</title>\r\n",
       "<path fill=\"none\" stroke=\"black\" d=\"M413.5,-88.9485C413.5,-80.7153 413.5,-71.848 413.5,-63.4814\"/>\r\n",
       "<polygon fill=\"black\" stroke=\"black\" points=\"417,-63.2367 413.5,-53.2367 410,-63.2367 417,-63.2367\"/>\r\n",
       "</g>\r\n",
       "<!-- 6 -->\r\n",
       "<g id=\"node7\" class=\"node\"><title>6</title>\r\n",
       "<path fill=\"#f2c19d\" stroke=\"black\" d=\"M646,-53C646,-53 519,-53 519,-53 513,-53 507,-47 507,-41 507,-41 507,-12 507,-12 507,-6 513,-0 519,-0 519,-0 646,-0 646,-0 652,-0 658,-6 658,-12 658,-12 658,-41 658,-41 658,-47 652,-53 646,-53\"/>\r\n",
       "<text text-anchor=\"middle\" x=\"582.5\" y=\"-37.8\" font-family=\"Helvetica,sans-Serif\" font-size=\"14.00\">squared_error = 0.25</text>\r\n",
       "<text text-anchor=\"middle\" x=\"582.5\" y=\"-22.8\" font-family=\"Helvetica,sans-Serif\" font-size=\"14.00\">samples = 13.9%</text>\r\n",
       "<text text-anchor=\"middle\" x=\"582.5\" y=\"-7.8\" font-family=\"Helvetica,sans-Serif\" font-size=\"14.00\">value = 0.55</text>\r\n",
       "</g>\r\n",
       "<!-- 4&#45;&gt;6 -->\r\n",
       "<g id=\"edge6\" class=\"edge\"><title>4&#45;&gt;6</title>\r\n",
       "<path fill=\"none\" stroke=\"black\" d=\"M472.608,-88.9485C490.521,-78.9318 510.113,-67.9767 527.729,-58.1263\"/>\r\n",
       "<polygon fill=\"black\" stroke=\"black\" points=\"529.722,-61.0221 536.742,-53.0867 526.305,-54.9124 529.722,-61.0221\"/>\r\n",
       "</g>\r\n",
       "</g>\r\n",
       "</svg>\r\n"
      ],
      "text/plain": [
       "<graphviz.files.Source at 0x1752308caf0>"
      ]
     },
     "execution_count": 43,
     "metadata": {},
     "output_type": "execute_result"
    }
   ],
   "source": [
    "predictors = ['W1-Numeric', 'W-ELO', 'B-ELO', 'Num Moves']\n",
    "target = 'Game Result'\n",
    "X = chess_data[predictors].values\n",
    "y = chess_data[target].values\n",
    "\n",
    "# test/train split\n",
    "X_train, X_test, y_train, y_test = train_test_split(X, y, test_size = 0.30, random_state = 0)\n",
    "\n",
    "# train the model\n",
    "reg = DecisionTreeRegressor(max_depth = 2)\n",
    "reg.fit(X_train, y_train)\n",
    "\n",
    "# view the tree\n",
    "# conda install python-graphviz\n",
    "dot_data = export_graphviz(reg, precision = 2,\n",
    "                     feature_names = predictors,  \n",
    "                     proportion = True,\n",
    "                     filled = True, rounded = True)\n",
    "\n",
    "# plot it\n",
    "graph = graphviz.Source(dot_data)  \n",
    "graph"
   ]
  },
  {
   "cell_type": "code",
   "execution_count": 44,
   "id": "63f9e004",
   "metadata": {},
   "outputs": [
    {
     "name": "stdout",
     "output_type": "stream",
     "text": [
      "|--- W-ELO <= 2365.50\n",
      "|   |--- B-ELO <= 2306.50\n",
      "|   |   |--- value: [0.57]\n",
      "|   |--- B-ELO >  2306.50\n",
      "|   |   |--- value: [0.27]\n",
      "|--- W-ELO >  2365.50\n",
      "|   |--- B-ELO <= 2428.50\n",
      "|   |   |--- value: [0.83]\n",
      "|   |--- B-ELO >  2428.50\n",
      "|   |   |--- value: [0.55]\n",
      "\n"
     ]
    }
   ],
   "source": [
    "r = export_text(reg, feature_names = predictors)\n",
    "print(r)"
   ]
  },
  {
   "cell_type": "code",
   "execution_count": 45,
   "id": "1f06499c",
   "metadata": {},
   "outputs": [
    {
     "data": {
      "text/plain": [
       "2"
      ]
     },
     "execution_count": 45,
     "metadata": {},
     "output_type": "execute_result"
    }
   ],
   "source": [
    "reg.get_depth()"
   ]
  },
  {
   "cell_type": "code",
   "execution_count": 46,
   "id": "10d78a07",
   "metadata": {},
   "outputs": [
    {
     "data": {
      "text/plain": [
       "4"
      ]
     },
     "execution_count": 46,
     "metadata": {},
     "output_type": "execute_result"
    }
   ],
   "source": [
    "reg.get_n_leaves()"
   ]
  },
  {
   "cell_type": "code",
   "execution_count": 47,
   "id": "47e5aed5",
   "metadata": {},
   "outputs": [
    {
     "data": {
      "text/plain": [
       "0.46578614384808614"
      ]
     },
     "execution_count": 47,
     "metadata": {},
     "output_type": "execute_result"
    }
   ],
   "source": [
    "y_predict = reg.predict(X_test)\n",
    "errors = y_test - y_predict\n",
    "rmse = np.sqrt((errors**2).mean())\n",
    "rmse"
   ]
  },
  {
   "cell_type": "code",
   "execution_count": 48,
   "id": "c3e347d1",
   "metadata": {},
   "outputs": [
    {
     "name": "stderr",
     "output_type": "stream",
     "text": [
      "C:\\Users\\Abrah\\anaconda3\\lib\\site-packages\\seaborn\\_decorators.py:36: FutureWarning: Pass the following variables as keyword args: x, y. From version 0.12, the only valid positional argument will be `data`, and passing other arguments without an explicit keyword will result in an error or misinterpretation.\n",
      "  warnings.warn(\n"
     ]
    },
    {
     "data": {
      "image/png": "[encoded data removed]",
      "text/plain": [
       "<Figure size 648x432 with 1 Axes>"
      ]
     },
     "metadata": {
      "needs_background": "light"
     },
     "output_type": "display_data"
    }
   ],
   "source": [
    "def plot_pred_actual(y_predict, y_test):\n",
    "    plt.figure(figsize = (9,6))\n",
    "    sns.scatterplot(y_predict, y_test, s = 50, color = 'darkred')\n",
    "    biggest = np.concatenate([y_predict, y_test]).max()\n",
    "    plt.plot([0, biggest], [0, biggest], color = 'grey', linestyle = 'dashed')\n",
    "    plt.xlabel('predicted')\n",
    "    plt.ylabel('actual')\n",
    "    plt.title('Actual vs. predicted values')\n",
    "\n",
    "plot_pred_actual(y_predict, y_test)"
   ]
  },
  {
   "cell_type": "code",
   "execution_count": 49,
   "id": "2b6332b2",
   "metadata": {},
   "outputs": [
    {
     "data": {
      "text/plain": [
       "<matplotlib.legend.Legend at 0x17523d0c070>"
      ]
     },
     "execution_count": 49,
     "metadata": {},
     "output_type": "execute_result"
    },
    {
     "data": {
      "image/png": "[encoded data removed]",
      "text/plain": [
       "<Figure size 504x432 with 1 Axes>"
      ]
     },
     "metadata": {
      "needs_background": "light"
     },
     "output_type": "display_data"
    }
   ],
   "source": [
    "depth = 8\n",
    "reg2 = DecisionTreeRegressor(max_depth = depth)\n",
    "train_sizes, train_scores, test_scores = learning_curve(reg, X_train, y_train, cv=10, scoring = 'neg_mean_squared_error')\n",
    "train_scores_mean = np.mean(train_scores, axis = 1)\n",
    "test_scores_mean = np.mean(test_scores, axis = 1)\n",
    "\n",
    "plt.figure(figsize = (7,6))\n",
    "plt.plot(train_sizes, train_scores_mean, label = 'train')\n",
    "plt.plot(train_sizes, test_scores_mean, label = 'test')\n",
    "plt.title('Learning curve, decision tree, depth = {}'.format(depth))\n",
    "plt.xlabel('training set size')\n",
    "plt.ylabel('negative MSE')\n",
    "plt.ylim(-7e7,0)\n",
    "plt.legend()"
   ]
  },
  {
   "cell_type": "markdown",
   "id": "3c528536",
   "metadata": {},
   "source": [
    "#### NEW MODEL, TRY MORE PREDICTORS"
   ]
  },
  {
   "cell_type": "code",
   "execution_count": 50,
   "id": "d9e0407a",
   "metadata": {},
   "outputs": [
    {
     "name": "stderr",
     "output_type": "stream",
     "text": [
      "C:\\Users\\Abrah\\anaconda3\\lib\\site-packages\\seaborn\\_decorators.py:36: FutureWarning: Pass the following variables as keyword args: x, y. From version 0.12, the only valid positional argument will be `data`, and passing other arguments without an explicit keyword will result in an error or misinterpretation.\n",
      "  warnings.warn(\n"
     ]
    },
    {
     "data": {
      "image/png": "[encoded data removed]",
      "text/plain": [
       "<Figure size 648x432 with 1 Axes>"
      ]
     },
     "metadata": {
      "needs_background": "light"
     },
     "output_type": "display_data"
    }
   ],
   "source": [
    "def build_data(chess_data, predictors, test_size = 0.3):\n",
    "    target = 'Game Result'\n",
    "    X = chess_data[predictors].values\n",
    "    y = chess_data[target].values\n",
    "    return train_test_split(X, y, test_size = test_size, random_state = 0)\n",
    "\n",
    "# include white's first move\n",
    "predictors = ['W1-Numeric', 'W2-Numeric', 'W3-Numeric', 'Num Moves','W-ELO', 'B-ELO']\n",
    "df1 = pd.get_dummies(chess_data[predictors], columns = ['B-ELO'], drop_first = True)\n",
    "X = df1.values\n",
    "y = chess_data[target].values\n",
    "X_train, X_test, y_train, y_test = train_test_split(X, y, test_size = 0.30, random_state = 0)\n",
    "\n",
    "# train the model\n",
    "reg3 = DecisionTreeRegressor(max_depth = 2)\n",
    "reg3.fit(X_train, y_train)\n",
    "\n",
    "y_predict = reg3.predict(X_test)\n",
    "\n",
    "plot_pred_actual(y_predict, y_test)"
   ]
  },
  {
   "cell_type": "markdown",
   "id": "c87f6a19",
   "metadata": {},
   "source": [
    "Another model"
   ]
  },
  {
   "cell_type": "code",
   "execution_count": 51,
   "id": "54b02dae",
   "metadata": {},
   "outputs": [
    {
     "ename": "ValueError",
     "evalue": "X has 2085 features, but DecisionTreeRegressor is expecting 4 features as input.",
     "output_type": "error",
     "traceback": [
      "\u001b[1;31m---------------------------------------------------------------------------\u001b[0m",
      "\u001b[1;31mValueError\u001b[0m                                Traceback (most recent call last)",
      "Input \u001b[1;32mIn [51]\u001b[0m, in \u001b[0;36m<cell line: 17>\u001b[1;34m()\u001b[0m\n\u001b[0;32m     14\u001b[0m reg4 \u001b[38;5;241m=\u001b[39m DecisionTreeRegressor(max_depth \u001b[38;5;241m=\u001b[39m \u001b[38;5;241m5\u001b[39m)\n\u001b[0;32m     15\u001b[0m reg4\u001b[38;5;241m.\u001b[39mfit(X_train, y_train)\n\u001b[1;32m---> 17\u001b[0m y_predict \u001b[38;5;241m=\u001b[39m \u001b[43mreg\u001b[49m\u001b[38;5;241;43m.\u001b[39;49m\u001b[43mpredict\u001b[49m\u001b[43m(\u001b[49m\u001b[43mX_test\u001b[49m\u001b[43m)\u001b[49m\n\u001b[0;32m     19\u001b[0m plot_pred_actual(y_predict, y_test)\n",
      "File \u001b[1;32m~\\anaconda3\\lib\\site-packages\\sklearn\\tree\\_classes.py:505\u001b[0m, in \u001b[0;36mBaseDecisionTree.predict\u001b[1;34m(self, X, check_input)\u001b[0m\n\u001b[0;32m    482\u001b[0m \u001b[38;5;124;03m\"\"\"Predict class or regression value for X.\u001b[39;00m\n\u001b[0;32m    483\u001b[0m \n\u001b[0;32m    484\u001b[0m \u001b[38;5;124;03mFor a classification model, the predicted class for each sample in X is\u001b[39;00m\n\u001b[1;32m   (...)\u001b[0m\n\u001b[0;32m    502\u001b[0m \u001b[38;5;124;03m    The predicted classes, or the predict values.\u001b[39;00m\n\u001b[0;32m    503\u001b[0m \u001b[38;5;124;03m\"\"\"\u001b[39;00m\n\u001b[0;32m    504\u001b[0m check_is_fitted(\u001b[38;5;28mself\u001b[39m)\n\u001b[1;32m--> 505\u001b[0m X \u001b[38;5;241m=\u001b[39m \u001b[38;5;28;43mself\u001b[39;49m\u001b[38;5;241;43m.\u001b[39;49m\u001b[43m_validate_X_predict\u001b[49m\u001b[43m(\u001b[49m\u001b[43mX\u001b[49m\u001b[43m,\u001b[49m\u001b[43m \u001b[49m\u001b[43mcheck_input\u001b[49m\u001b[43m)\u001b[49m\n\u001b[0;32m    506\u001b[0m proba \u001b[38;5;241m=\u001b[39m \u001b[38;5;28mself\u001b[39m\u001b[38;5;241m.\u001b[39mtree_\u001b[38;5;241m.\u001b[39mpredict(X)\n\u001b[0;32m    507\u001b[0m n_samples \u001b[38;5;241m=\u001b[39m X\u001b[38;5;241m.\u001b[39mshape[\u001b[38;5;241m0\u001b[39m]\n",
      "File \u001b[1;32m~\\anaconda3\\lib\\site-packages\\sklearn\\tree\\_classes.py:471\u001b[0m, in \u001b[0;36mBaseDecisionTree._validate_X_predict\u001b[1;34m(self, X, check_input)\u001b[0m\n\u001b[0;32m    469\u001b[0m \u001b[38;5;124;03m\"\"\"Validate the training data on predict (probabilities).\"\"\"\u001b[39;00m\n\u001b[0;32m    470\u001b[0m \u001b[38;5;28;01mif\u001b[39;00m check_input:\n\u001b[1;32m--> 471\u001b[0m     X \u001b[38;5;241m=\u001b[39m \u001b[38;5;28;43mself\u001b[39;49m\u001b[38;5;241;43m.\u001b[39;49m\u001b[43m_validate_data\u001b[49m\u001b[43m(\u001b[49m\u001b[43mX\u001b[49m\u001b[43m,\u001b[49m\u001b[43m \u001b[49m\u001b[43mdtype\u001b[49m\u001b[38;5;241;43m=\u001b[39;49m\u001b[43mDTYPE\u001b[49m\u001b[43m,\u001b[49m\u001b[43m \u001b[49m\u001b[43maccept_sparse\u001b[49m\u001b[38;5;241;43m=\u001b[39;49m\u001b[38;5;124;43m\"\u001b[39;49m\u001b[38;5;124;43mcsr\u001b[39;49m\u001b[38;5;124;43m\"\u001b[39;49m\u001b[43m,\u001b[49m\u001b[43m \u001b[49m\u001b[43mreset\u001b[49m\u001b[38;5;241;43m=\u001b[39;49m\u001b[38;5;28;43;01mFalse\u001b[39;49;00m\u001b[43m)\u001b[49m\n\u001b[0;32m    472\u001b[0m     \u001b[38;5;28;01mif\u001b[39;00m issparse(X) \u001b[38;5;129;01mand\u001b[39;00m (\n\u001b[0;32m    473\u001b[0m         X\u001b[38;5;241m.\u001b[39mindices\u001b[38;5;241m.\u001b[39mdtype \u001b[38;5;241m!=\u001b[39m np\u001b[38;5;241m.\u001b[39mintc \u001b[38;5;129;01mor\u001b[39;00m X\u001b[38;5;241m.\u001b[39mindptr\u001b[38;5;241m.\u001b[39mdtype \u001b[38;5;241m!=\u001b[39m np\u001b[38;5;241m.\u001b[39mintc\n\u001b[0;32m    474\u001b[0m     ):\n\u001b[0;32m    475\u001b[0m         \u001b[38;5;28;01mraise\u001b[39;00m \u001b[38;5;167;01mValueError\u001b[39;00m(\u001b[38;5;124m\"\u001b[39m\u001b[38;5;124mNo support for np.int64 index based sparse matrices\u001b[39m\u001b[38;5;124m\"\u001b[39m)\n",
      "File \u001b[1;32m~\\anaconda3\\lib\\site-packages\\sklearn\\base.py:600\u001b[0m, in \u001b[0;36mBaseEstimator._validate_data\u001b[1;34m(self, X, y, reset, validate_separately, **check_params)\u001b[0m\n\u001b[0;32m    597\u001b[0m     out \u001b[38;5;241m=\u001b[39m X, y\n\u001b[0;32m    599\u001b[0m \u001b[38;5;28;01mif\u001b[39;00m \u001b[38;5;129;01mnot\u001b[39;00m no_val_X \u001b[38;5;129;01mand\u001b[39;00m check_params\u001b[38;5;241m.\u001b[39mget(\u001b[38;5;124m\"\u001b[39m\u001b[38;5;124mensure_2d\u001b[39m\u001b[38;5;124m\"\u001b[39m, \u001b[38;5;28;01mTrue\u001b[39;00m):\n\u001b[1;32m--> 600\u001b[0m     \u001b[38;5;28;43mself\u001b[39;49m\u001b[38;5;241;43m.\u001b[39;49m\u001b[43m_check_n_features\u001b[49m\u001b[43m(\u001b[49m\u001b[43mX\u001b[49m\u001b[43m,\u001b[49m\u001b[43m \u001b[49m\u001b[43mreset\u001b[49m\u001b[38;5;241;43m=\u001b[39;49m\u001b[43mreset\u001b[49m\u001b[43m)\u001b[49m\n\u001b[0;32m    602\u001b[0m \u001b[38;5;28;01mreturn\u001b[39;00m out\n",
      "File \u001b[1;32m~\\anaconda3\\lib\\site-packages\\sklearn\\base.py:400\u001b[0m, in \u001b[0;36mBaseEstimator._check_n_features\u001b[1;34m(self, X, reset)\u001b[0m\n\u001b[0;32m    397\u001b[0m     \u001b[38;5;28;01mreturn\u001b[39;00m\n\u001b[0;32m    399\u001b[0m \u001b[38;5;28;01mif\u001b[39;00m n_features \u001b[38;5;241m!=\u001b[39m \u001b[38;5;28mself\u001b[39m\u001b[38;5;241m.\u001b[39mn_features_in_:\n\u001b[1;32m--> 400\u001b[0m     \u001b[38;5;28;01mraise\u001b[39;00m \u001b[38;5;167;01mValueError\u001b[39;00m(\n\u001b[0;32m    401\u001b[0m         \u001b[38;5;124mf\u001b[39m\u001b[38;5;124m\"\u001b[39m\u001b[38;5;124mX has \u001b[39m\u001b[38;5;132;01m{\u001b[39;00mn_features\u001b[38;5;132;01m}\u001b[39;00m\u001b[38;5;124m features, but \u001b[39m\u001b[38;5;132;01m{\u001b[39;00m\u001b[38;5;28mself\u001b[39m\u001b[38;5;241m.\u001b[39m\u001b[38;5;18m__class__\u001b[39m\u001b[38;5;241m.\u001b[39m\u001b[38;5;18m__name__\u001b[39m\u001b[38;5;132;01m}\u001b[39;00m\u001b[38;5;124m \u001b[39m\u001b[38;5;124m\"\u001b[39m\n\u001b[0;32m    402\u001b[0m         \u001b[38;5;124mf\u001b[39m\u001b[38;5;124m\"\u001b[39m\u001b[38;5;124mis expecting \u001b[39m\u001b[38;5;132;01m{\u001b[39;00m\u001b[38;5;28mself\u001b[39m\u001b[38;5;241m.\u001b[39mn_features_in_\u001b[38;5;132;01m}\u001b[39;00m\u001b[38;5;124m features as input.\u001b[39m\u001b[38;5;124m\"\u001b[39m\n\u001b[0;32m    403\u001b[0m     )\n",
      "\u001b[1;31mValueError\u001b[0m: X has 2085 features, but DecisionTreeRegressor is expecting 4 features as input."
     ]
    }
   ],
   "source": [
    "def build_data(chess_data, predictors, test_size = 0.3):\n",
    "    target = 'Game Result'\n",
    "    X = chess_data[predictors].values\n",
    "    y = chess_data[target].values\n",
    "    return train_test_split(X, y, test_size = test_size, random_state = 0)\n",
    "\n",
    "predictors = ['W1-Numeric', 'W2-Numeric', 'W3-Numeric', 'W4-Numeric', 'W5-Numeric', 'W6-Numeric', 'W7-Numeric','W8-Numeric', 'W-ELO', 'B-ELO', 'Num Moves']\n",
    "df1 = pd.get_dummies(chess_data[predictors], columns = ['B-ELO'], drop_first = True)\n",
    "X = df1.values\n",
    "y = chess_data[target].values\n",
    "X_train, X_test, y_train, y_test = train_test_split(X, y, test_size = 0.30, random_state = 0)\n",
    "\n",
    "# train the model\n",
    "reg4 = DecisionTreeRegressor(max_depth = 5)\n",
    "reg4.fit(X_train, y_train)\n",
    "\n",
    "y_predict = reg.predict(X_test)\n",
    "\n",
    "plot_pred_actual(y_predict, y_test)"
   ]
  },
  {
   "cell_type": "markdown",
   "id": "d12a9c47",
   "metadata": {},
   "source": [
    "### DECISION TREE CLASSIFIER"
   ]
  },
  {
   "cell_type": "code",
   "execution_count": 52,
   "id": "f50392bc",
   "metadata": {},
   "outputs": [],
   "source": [
    "predictors = ['W1-Numeric', 'W-ELO', 'B-ELO', 'Num Moves']\n",
    "target_names = ['Game Result']\n",
    "X = chess_data[predictors].values\n",
    "y = chess_data['Game Result'].values"
   ]
  },
  {
   "cell_type": "code",
   "execution_count": 53,
   "id": "28b7794b",
   "metadata": {},
   "outputs": [
    {
     "data": {
      "text/html": [
       "<style>#sk-container-id-3 {color: black;background-color: white;}#sk-container-id-3 pre{padding: 0;}#sk-container-id-3 div.sk-toggleable {background-color: white;}#sk-container-id-3 label.sk-toggleable__label {cursor: pointer;display: block;width: 100%;margin-bottom: 0;padding: 0.3em;box-sizing: border-box;text-align: center;}#sk-container-id-3 label.sk-toggleable__label-arrow:before {content: \"▸\";float: left;margin-right: 0.25em;color: #696969;}#sk-container-id-3 label.sk-toggleable__label-arrow:hover:before {color: black;}#sk-container-id-3 div.sk-estimator:hover label.sk-toggleable__label-arrow:before {color: black;}#sk-container-id-3 div.sk-toggleable__content {max-height: 0;max-width: 0;overflow: hidden;text-align: left;background-color: #f0f8ff;}#sk-container-id-3 div.sk-toggleable__content pre {margin: 0.2em;color: black;border-radius: 0.25em;background-color: #f0f8ff;}#sk-container-id-3 input.sk-toggleable__control:checked~div.sk-toggleable__content {max-height: 200px;max-width: 100%;overflow: auto;}#sk-container-id-3 input.sk-toggleable__control:checked~label.sk-toggleable__label-arrow:before {content: \"▾\";}#sk-container-id-3 div.sk-estimator input.sk-toggleable__control:checked~label.sk-toggleable__label {background-color: #d4ebff;}#sk-container-id-3 div.sk-label input.sk-toggleable__control:checked~label.sk-toggleable__label {background-color: #d4ebff;}#sk-container-id-3 input.sk-hidden--visually {border: 0;clip: rect(1px 1px 1px 1px);clip: rect(1px, 1px, 1px, 1px);height: 1px;margin: -1px;overflow: hidden;padding: 0;position: absolute;width: 1px;}#sk-container-id-3 div.sk-estimator {font-family: monospace;background-color: #f0f8ff;border: 1px dotted black;border-radius: 0.25em;box-sizing: border-box;margin-bottom: 0.5em;}#sk-container-id-3 div.sk-estimator:hover {background-color: #d4ebff;}#sk-container-id-3 div.sk-parallel-item::after {content: \"\";width: 100%;border-bottom: 1px solid gray;flex-grow: 1;}#sk-container-id-3 div.sk-label:hover label.sk-toggleable__label {background-color: #d4ebff;}#sk-container-id-3 div.sk-serial::before {content: \"\";position: absolute;border-left: 1px solid gray;box-sizing: border-box;top: 0;bottom: 0;left: 50%;z-index: 0;}#sk-container-id-3 div.sk-serial {display: flex;flex-direction: column;align-items: center;background-color: white;padding-right: 0.2em;padding-left: 0.2em;position: relative;}#sk-container-id-3 div.sk-item {position: relative;z-index: 1;}#sk-container-id-3 div.sk-parallel {display: flex;align-items: stretch;justify-content: center;background-color: white;position: relative;}#sk-container-id-3 div.sk-item::before, #sk-container-id-3 div.sk-parallel-item::before {content: \"\";position: absolute;border-left: 1px solid gray;box-sizing: border-box;top: 0;bottom: 0;left: 50%;z-index: -1;}#sk-container-id-3 div.sk-parallel-item {display: flex;flex-direction: column;z-index: 1;position: relative;background-color: white;}#sk-container-id-3 div.sk-parallel-item:first-child::after {align-self: flex-end;width: 50%;}#sk-container-id-3 div.sk-parallel-item:last-child::after {align-self: flex-start;width: 50%;}#sk-container-id-3 div.sk-parallel-item:only-child::after {width: 0;}#sk-container-id-3 div.sk-dashed-wrapped {border: 1px dashed gray;margin: 0 0.4em 0.5em 0.4em;box-sizing: border-box;padding-bottom: 0.4em;background-color: white;}#sk-container-id-3 div.sk-label label {font-family: monospace;font-weight: bold;display: inline-block;line-height: 1.2em;}#sk-container-id-3 div.sk-label-container {text-align: center;}#sk-container-id-3 div.sk-container {/* jupyter's `normalize.less` sets `[hidden] { display: none; }` but bootstrap.min.css set `[hidden] { display: none !important; }` so we also need the `!important` here to be able to override the default hidden behavior on the sphinx rendered scikit-learn.org. See: https://github.com/scikit-learn/scikit-learn/issues/21755 */display: inline-block !important;position: relative;}#sk-container-id-3 div.sk-text-repr-fallback {display: none;}</style><div id=\"sk-container-id-3\" class=\"sk-top-container\"><div class=\"sk-text-repr-fallback\"><pre>DecisionTreeClassifier(max_depth=2, random_state=0)</pre><b>In a Jupyter environment, please rerun this cell to show the HTML representation or trust the notebook. <br />On GitHub, the HTML representation is unable to render, please try loading this page with nbviewer.org.</b></div><div class=\"sk-container\" hidden><div class=\"sk-item\"><div class=\"sk-estimator sk-toggleable\"><input class=\"sk-toggleable__control sk-hidden--visually\" id=\"sk-estimator-id-3\" type=\"checkbox\" checked><label for=\"sk-estimator-id-3\" class=\"sk-toggleable__label sk-toggleable__label-arrow\">DecisionTreeClassifier</label><div class=\"sk-toggleable__content\"><pre>DecisionTreeClassifier(max_depth=2, random_state=0)</pre></div></div></div></div></div>"
      ],
      "text/plain": [
       "DecisionTreeClassifier(max_depth=2, random_state=0)"
      ]
     },
     "execution_count": 53,
     "metadata": {},
     "output_type": "execute_result"
    }
   ],
   "source": [
    "X_train, X_test, y_train, y_test = train_test_split(X, y, test_size = 0.30, random_state = 0)\n",
    "\n",
    "#\n",
    "# train the model\n",
    "#\n",
    "\n",
    "# features are permuted randomly at each split, so the best\n",
    "# fit found may vary if several splits are equally good\n",
    "clf = DecisionTreeClassifier(max_depth = 2, random_state = 0)\n",
    "clf.fit(X_train, y_train)"
   ]
  },
  {
   "cell_type": "code",
   "execution_count": 54,
   "id": "24b7c3ea",
   "metadata": {
    "scrolled": true
   },
   "outputs": [
    {
     "ename": "IndexError",
     "evalue": "list index out of range",
     "output_type": "error",
     "traceback": [
      "\u001b[1;31m---------------------------------------------------------------------------\u001b[0m",
      "\u001b[1;31mIndexError\u001b[0m                                Traceback (most recent call last)",
      "Input \u001b[1;32mIn [54]\u001b[0m, in \u001b[0;36m<cell line: 6>\u001b[1;34m()\u001b[0m\n\u001b[0;32m      1\u001b[0m \u001b[38;5;66;03m#\u001b[39;00m\n\u001b[0;32m      2\u001b[0m \u001b[38;5;66;03m# plot the tree\u001b[39;00m\n\u001b[0;32m      3\u001b[0m \u001b[38;5;66;03m#\u001b[39;00m\n\u001b[0;32m      4\u001b[0m \n\u001b[0;32m      5\u001b[0m \u001b[38;5;66;03m# conda install python-graphviz\u001b[39;00m\n\u001b[1;32m----> 6\u001b[0m dot_data \u001b[38;5;241m=\u001b[39m \u001b[43mexport_graphviz\u001b[49m\u001b[43m(\u001b[49m\u001b[43mclf\u001b[49m\u001b[43m,\u001b[49m\u001b[43m \u001b[49m\u001b[43mprecision\u001b[49m\u001b[43m \u001b[49m\u001b[38;5;241;43m=\u001b[39;49m\u001b[43m \u001b[49m\u001b[38;5;241;43m2\u001b[39;49m\u001b[43m,\u001b[49m\n\u001b[0;32m      7\u001b[0m \u001b[43m                     \u001b[49m\u001b[43mfeature_names\u001b[49m\u001b[43m \u001b[49m\u001b[38;5;241;43m=\u001b[39;49m\u001b[43m \u001b[49m\u001b[43mpredictors\u001b[49m\u001b[43m,\u001b[49m\u001b[43m  \u001b[49m\n\u001b[0;32m      8\u001b[0m \u001b[43m                     \u001b[49m\u001b[43mproportion\u001b[49m\u001b[43m \u001b[49m\u001b[38;5;241;43m=\u001b[39;49m\u001b[43m \u001b[49m\u001b[38;5;28;43;01mTrue\u001b[39;49;00m\u001b[43m,\u001b[49m\n\u001b[0;32m      9\u001b[0m \u001b[43m                     \u001b[49m\u001b[43mclass_names\u001b[49m\u001b[43m \u001b[49m\u001b[38;5;241;43m=\u001b[39;49m\u001b[43m \u001b[49m\u001b[43mtarget_names\u001b[49m\u001b[43m,\u001b[49m\u001b[43m  \u001b[49m\n\u001b[0;32m     10\u001b[0m \u001b[43m                     \u001b[49m\u001b[43mfilled\u001b[49m\u001b[43m \u001b[49m\u001b[38;5;241;43m=\u001b[39;49m\u001b[43m \u001b[49m\u001b[38;5;28;43;01mTrue\u001b[39;49;00m\u001b[43m,\u001b[49m\u001b[43m \u001b[49m\u001b[43mrounded\u001b[49m\u001b[43m \u001b[49m\u001b[38;5;241;43m=\u001b[39;49m\u001b[43m \u001b[49m\u001b[38;5;28;43;01mTrue\u001b[39;49;00m\u001b[43m,\u001b[49m\u001b[43m  \u001b[49m\n\u001b[0;32m     11\u001b[0m \u001b[43m                     \u001b[49m\u001b[43mspecial_characters\u001b[49m\u001b[43m \u001b[49m\u001b[38;5;241;43m=\u001b[39;49m\u001b[43m \u001b[49m\u001b[38;5;28;43;01mTrue\u001b[39;49;00m\u001b[43m)\u001b[49m\n\u001b[0;32m     13\u001b[0m \u001b[38;5;66;03m# plot it\u001b[39;00m\n\u001b[0;32m     14\u001b[0m graph \u001b[38;5;241m=\u001b[39m graphviz\u001b[38;5;241m.\u001b[39mSource(dot_data)  \n",
      "File \u001b[1;32m~\\anaconda3\\lib\\site-packages\\sklearn\\tree\\_export.py:889\u001b[0m, in \u001b[0;36mexport_graphviz\u001b[1;34m(decision_tree, out_file, max_depth, feature_names, class_names, label, filled, leaves_parallel, impurity, node_ids, proportion, rotate, rounded, special_characters, precision, fontname)\u001b[0m\n\u001b[0;32m    870\u001b[0m     out_file \u001b[38;5;241m=\u001b[39m StringIO()\n\u001b[0;32m    872\u001b[0m exporter \u001b[38;5;241m=\u001b[39m _DOTTreeExporter(\n\u001b[0;32m    873\u001b[0m     out_file\u001b[38;5;241m=\u001b[39mout_file,\n\u001b[0;32m    874\u001b[0m     max_depth\u001b[38;5;241m=\u001b[39mmax_depth,\n\u001b[1;32m   (...)\u001b[0m\n\u001b[0;32m    887\u001b[0m     fontname\u001b[38;5;241m=\u001b[39mfontname,\n\u001b[0;32m    888\u001b[0m )\n\u001b[1;32m--> 889\u001b[0m \u001b[43mexporter\u001b[49m\u001b[38;5;241;43m.\u001b[39;49m\u001b[43mexport\u001b[49m\u001b[43m(\u001b[49m\u001b[43mdecision_tree\u001b[49m\u001b[43m)\u001b[49m\n\u001b[0;32m    891\u001b[0m \u001b[38;5;28;01mif\u001b[39;00m return_string:\n\u001b[0;32m    892\u001b[0m     \u001b[38;5;28;01mreturn\u001b[39;00m exporter\u001b[38;5;241m.\u001b[39mout_file\u001b[38;5;241m.\u001b[39mgetvalue()\n",
      "File \u001b[1;32m~\\anaconda3\\lib\\site-packages\\sklearn\\tree\\_export.py:462\u001b[0m, in \u001b[0;36m_DOTTreeExporter.export\u001b[1;34m(self, decision_tree)\u001b[0m\n\u001b[0;32m    460\u001b[0m     \u001b[38;5;28mself\u001b[39m\u001b[38;5;241m.\u001b[39mrecurse(decision_tree, \u001b[38;5;241m0\u001b[39m, criterion\u001b[38;5;241m=\u001b[39m\u001b[38;5;124m\"\u001b[39m\u001b[38;5;124mimpurity\u001b[39m\u001b[38;5;124m\"\u001b[39m)\n\u001b[0;32m    461\u001b[0m \u001b[38;5;28;01melse\u001b[39;00m:\n\u001b[1;32m--> 462\u001b[0m     \u001b[38;5;28;43mself\u001b[39;49m\u001b[38;5;241;43m.\u001b[39;49m\u001b[43mrecurse\u001b[49m\u001b[43m(\u001b[49m\u001b[43mdecision_tree\u001b[49m\u001b[38;5;241;43m.\u001b[39;49m\u001b[43mtree_\u001b[49m\u001b[43m,\u001b[49m\u001b[43m \u001b[49m\u001b[38;5;241;43m0\u001b[39;49m\u001b[43m,\u001b[49m\u001b[43m \u001b[49m\u001b[43mcriterion\u001b[49m\u001b[38;5;241;43m=\u001b[39;49m\u001b[43mdecision_tree\u001b[49m\u001b[38;5;241;43m.\u001b[39;49m\u001b[43mcriterion\u001b[49m\u001b[43m)\u001b[49m\n\u001b[0;32m    464\u001b[0m \u001b[38;5;28mself\u001b[39m\u001b[38;5;241m.\u001b[39mtail()\n",
      "File \u001b[1;32m~\\anaconda3\\lib\\site-packages\\sklearn\\tree\\_export.py:521\u001b[0m, in \u001b[0;36m_DOTTreeExporter.recurse\u001b[1;34m(self, tree, node_id, criterion, parent, depth)\u001b[0m\n\u001b[0;32m    517\u001b[0m \u001b[38;5;28;01melse\u001b[39;00m:\n\u001b[0;32m    518\u001b[0m     \u001b[38;5;28mself\u001b[39m\u001b[38;5;241m.\u001b[39mranks[\u001b[38;5;28mstr\u001b[39m(depth)]\u001b[38;5;241m.\u001b[39mappend(\u001b[38;5;28mstr\u001b[39m(node_id))\n\u001b[0;32m    520\u001b[0m \u001b[38;5;28mself\u001b[39m\u001b[38;5;241m.\u001b[39mout_file\u001b[38;5;241m.\u001b[39mwrite(\n\u001b[1;32m--> 521\u001b[0m     \u001b[38;5;124m\"\u001b[39m\u001b[38;5;132;01m%d\u001b[39;00m\u001b[38;5;124m [label=\u001b[39m\u001b[38;5;132;01m%s\u001b[39;00m\u001b[38;5;124m\"\u001b[39m \u001b[38;5;241m%\u001b[39m (node_id, \u001b[38;5;28;43mself\u001b[39;49m\u001b[38;5;241;43m.\u001b[39;49m\u001b[43mnode_to_str\u001b[49m\u001b[43m(\u001b[49m\u001b[43mtree\u001b[49m\u001b[43m,\u001b[49m\u001b[43m \u001b[49m\u001b[43mnode_id\u001b[49m\u001b[43m,\u001b[49m\u001b[43m \u001b[49m\u001b[43mcriterion\u001b[49m\u001b[43m)\u001b[49m)\n\u001b[0;32m    522\u001b[0m )\n\u001b[0;32m    524\u001b[0m \u001b[38;5;28;01mif\u001b[39;00m \u001b[38;5;28mself\u001b[39m\u001b[38;5;241m.\u001b[39mfilled:\n\u001b[0;32m    525\u001b[0m     \u001b[38;5;28mself\u001b[39m\u001b[38;5;241m.\u001b[39mout_file\u001b[38;5;241m.\u001b[39mwrite(\n\u001b[0;32m    526\u001b[0m         \u001b[38;5;124m'\u001b[39m\u001b[38;5;124m, fillcolor=\u001b[39m\u001b[38;5;124m\"\u001b[39m\u001b[38;5;132;01m%s\u001b[39;00m\u001b[38;5;124m\"\u001b[39m\u001b[38;5;124m'\u001b[39m \u001b[38;5;241m%\u001b[39m \u001b[38;5;28mself\u001b[39m\u001b[38;5;241m.\u001b[39mget_fill_color(tree, node_id)\n\u001b[0;32m    527\u001b[0m     )\n",
      "File \u001b[1;32m~\\anaconda3\\lib\\site-packages\\sklearn\\tree\\_export.py:367\u001b[0m, in \u001b[0;36m_BaseTreeExporter.node_to_str\u001b[1;34m(self, tree, node_id, criterion)\u001b[0m\n\u001b[0;32m    365\u001b[0m     node_string \u001b[38;5;241m+\u001b[39m\u001b[38;5;241m=\u001b[39m \u001b[38;5;124m\"\u001b[39m\u001b[38;5;124mclass = \u001b[39m\u001b[38;5;124m\"\u001b[39m\n\u001b[0;32m    366\u001b[0m \u001b[38;5;28;01mif\u001b[39;00m \u001b[38;5;28mself\u001b[39m\u001b[38;5;241m.\u001b[39mclass_names \u001b[38;5;129;01mis\u001b[39;00m \u001b[38;5;129;01mnot\u001b[39;00m \u001b[38;5;28;01mTrue\u001b[39;00m:\n\u001b[1;32m--> 367\u001b[0m     class_name \u001b[38;5;241m=\u001b[39m \u001b[38;5;28;43mself\u001b[39;49m\u001b[38;5;241;43m.\u001b[39;49m\u001b[43mclass_names\u001b[49m\u001b[43m[\u001b[49m\u001b[43mnp\u001b[49m\u001b[38;5;241;43m.\u001b[39;49m\u001b[43margmax\u001b[49m\u001b[43m(\u001b[49m\u001b[43mvalue\u001b[49m\u001b[43m)\u001b[49m\u001b[43m]\u001b[49m\n\u001b[0;32m    368\u001b[0m \u001b[38;5;28;01melse\u001b[39;00m:\n\u001b[0;32m    369\u001b[0m     class_name \u001b[38;5;241m=\u001b[39m \u001b[38;5;124m\"\u001b[39m\u001b[38;5;124my\u001b[39m\u001b[38;5;132;01m%s\u001b[39;00m\u001b[38;5;132;01m%s\u001b[39;00m\u001b[38;5;132;01m%s\u001b[39;00m\u001b[38;5;124m\"\u001b[39m \u001b[38;5;241m%\u001b[39m (\n\u001b[0;32m    370\u001b[0m         characters[\u001b[38;5;241m1\u001b[39m],\n\u001b[0;32m    371\u001b[0m         np\u001b[38;5;241m.\u001b[39margmax(value),\n\u001b[0;32m    372\u001b[0m         characters[\u001b[38;5;241m2\u001b[39m],\n\u001b[0;32m    373\u001b[0m     )\n",
      "\u001b[1;31mIndexError\u001b[0m: list index out of range"
     ]
    }
   ],
   "source": [
    "#\n",
    "# plot the tree\n",
    "#\n",
    "\n",
    "# conda install python-graphviz\n",
    "dot_data = export_graphviz(clf, precision = 2,\n",
    "                     feature_names = predictors,  \n",
    "                     proportion = True,\n",
    "                     class_names = target_names,  \n",
    "                     filled = True, rounded = True,  \n",
    "                     special_characters = True)\n",
    "\n",
    "# plot it\n",
    "graph = graphviz.Source(dot_data)  \n",
    "graph"
   ]
  },
  {
   "cell_type": "code",
   "execution_count": 55,
   "id": "e12839d6",
   "metadata": {},
   "outputs": [
    {
     "name": "stdout",
     "output_type": "stream",
     "text": [
      "|--- W-ELO <= 2365.50\n",
      "|   |--- B-ELO <= 2306.50\n",
      "|   |   |--- class: 1\n",
      "|   |--- B-ELO >  2306.50\n",
      "|   |   |--- class: 0\n",
      "|--- W-ELO >  2365.50\n",
      "|   |--- B-ELO <= 2428.50\n",
      "|   |   |--- class: 1\n",
      "|   |--- B-ELO >  2428.50\n",
      "|   |   |--- class: 1\n",
      "\n"
     ]
    }
   ],
   "source": [
    "#\n",
    "# show the fitted tree using text\n",
    "#\n",
    "\n",
    "r = export_text(clf, feature_names=predictors)\n",
    "print(r)"
   ]
  },
  {
   "cell_type": "code",
   "execution_count": 56,
   "id": "665e2ffc",
   "metadata": {},
   "outputs": [
    {
     "data": {
      "text/plain": [
       "4"
      ]
     },
     "execution_count": 56,
     "metadata": {},
     "output_type": "execute_result"
    }
   ],
   "source": [
    "#\n",
    "# other information about the fit\n",
    "#\n",
    "\n",
    "clf.get_depth()\n",
    "clf.get_n_leaves()\n",
    "\n",
    "# \"the normalized total reduction of the criterion brought\n",
    "# by that feature\".  aka Gini importance.\n",
    "# clf.feature_importances_\n",
    "\n",
    "# clf"
   ]
  },
  {
   "cell_type": "code",
   "execution_count": 57,
   "id": "d46e1022",
   "metadata": {},
   "outputs": [
    {
     "data": {
      "text/plain": [
       "(array([ 8544.,     0.,     0.,     0.,  6406., 22840.,     0.,     0.,\n",
       "            0.,  9082.]),\n",
       " array([0.26544406, 0.32210605, 0.37876804, 0.43543002, 0.49209201,\n",
       "        0.54875399, 0.60541598, 0.66207796, 0.71873995, 0.77540194,\n",
       "        0.83206392]),\n",
       " <BarContainer object of 10 artists>)"
      ]
     },
     "execution_count": 57,
     "metadata": {},
     "output_type": "execute_result"
    },
    {
     "data": {
      "image/png": "[encoded data removed]",
      "text/plain": [
       "<Figure size 432x288 with 1 Axes>"
      ]
     },
     "metadata": {
      "needs_background": "light"
     },
     "output_type": "display_data"
    }
   ],
   "source": [
    "#\n",
    "# make predictions\n",
    "#\n",
    "\n",
    "y_predict = clf.predict(X_test)\n",
    "\n",
    "# accuracy\n",
    "(y_predict == y_test).mean()\n",
    "\n",
    "# predict probabilities -- many will be the same\n",
    "y_predict_probs = clf.predict_proba(X_test)[:,1]\n",
    "plt.hist(y_predict_probs)"
   ]
  },
  {
   "cell_type": "code",
   "execution_count": 58,
   "id": "9dc62bb2",
   "metadata": {},
   "outputs": [
    {
     "data": {
      "text/plain": [
       "array([[ 6220, 14157],\n",
       "       [ 2324, 24171]], dtype=int64)"
      ]
     },
     "execution_count": 58,
     "metadata": {},
     "output_type": "execute_result"
    }
   ],
   "source": [
    "from sklearn.metrics import confusion_matrix\n",
    "# https://scikit-learn.org/stable/modules/generated/sklearn.metrics.confusion_matrix.html\n",
    "confusion_matrix(y_test, y_predict)"
   ]
  },
  {
   "cell_type": "code",
   "execution_count": 59,
   "id": "d0743fa3",
   "metadata": {},
   "outputs": [
    {
     "name": "stderr",
     "output_type": "stream",
     "text": [
      "C:\\Users\\Abrah\\anaconda3\\lib\\site-packages\\sklearn\\utils\\deprecation.py:87: FutureWarning: Function plot_confusion_matrix is deprecated; Function `plot_confusion_matrix` is deprecated in 1.0 and will be removed in 1.2. Use one of the class methods: ConfusionMatrixDisplay.from_predictions or ConfusionMatrixDisplay.from_estimator.\n",
      "  warnings.warn(msg, category=FutureWarning)\n"
     ]
    },
    {
     "data": {
      "text/plain": [
       "<sklearn.metrics._plot.confusion_matrix.ConfusionMatrixDisplay at 0x1751bb6f1f0>"
      ]
     },
     "execution_count": 59,
     "metadata": {},
     "output_type": "execute_result"
    },
    {
     "data": {
      "image/png": "[encoded data removed]",
      "text/plain": [
       "<Figure size 432x288 with 2 Axes>"
      ]
     },
     "metadata": {
      "needs_background": "light"
     },
     "output_type": "display_data"
    }
   ],
   "source": [
    "#a prettier approach\n",
    "from sklearn.metrics import plot_confusion_matrix\n",
    "plot_confusion_matrix(clf, X_test, y_test)  "
   ]
  },
  {
   "cell_type": "code",
   "execution_count": null,
   "id": "ef93a864",
   "metadata": {},
   "outputs": [],
   "source": []
  }
 ],
 "metadata": {
  "kernelspec": {
   "display_name": "Python 3 (ipykernel)",
   "language": "python",
   "name": "python3"
  },
  "language_info": {
   "codemirror_mode": {
    "name": "ipython",
    "version": 3
   },
   "file_extension": ".py",
   "mimetype": "text/x-python",
   "name": "python",
   "nbconvert_exporter": "python",
   "pygments_lexer": "ipython3",
   "version": "3.9.7"
  }
 },
 "nbformat": 4,
 "nbformat_minor": 5
}
